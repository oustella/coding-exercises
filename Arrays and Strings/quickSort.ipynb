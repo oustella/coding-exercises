{
 "metadata": {
  "language_info": {
   "codemirror_mode": {
    "name": "ipython",
    "version": 3
   },
   "file_extension": ".py",
   "mimetype": "text/x-python",
   "name": "python",
   "nbconvert_exporter": "python",
   "pygments_lexer": "ipython3",
   "version": "3.8.1"
  },
  "orig_nbformat": 2,
  "kernelspec": {
   "name": "python3",
   "display_name": "Python 3.8.1 64-bit ('3.8.1': pyenv)",
   "metadata": {
    "interpreter": {
     "hash": "7b3a3da4fd0c9a68cfb7a0261cf18452ae65b217a2b1a75fb9d1433dbee3b706"
    }
   }
  }
 },
 "nbformat": 4,
 "nbformat_minor": 2,
 "cells": [
  {
   "source": [
    "# Quick Sort"
   ],
   "cell_type": "markdown",
   "metadata": {}
  },
  {
   "source": [
    "The key idea of quick sort is to anchor on a pivot element p, and put all elements smallers than p to its left, and all larger elements to its right. Then do this recursively for the new left segments and right segments, until there is only one element in the segment.\n",
    "\n",
    "It is an in-place sort. Average time complexity is O(nlogn). It's usually preferred over Merge Sort for its in-place operation, even though its worst time complexity can be O(n**2) when the array is already sorted. Merge Sort is a better alternative for sorting Linked List because it is hard to randomly accessing a node in a Linked List and the space complexity is not a concern for Linked List. "
   ],
   "cell_type": "markdown",
   "metadata": {}
  },
  {
   "cell_type": "code",
   "execution_count": 26,
   "metadata": {},
   "outputs": [],
   "source": [
    "def quickSort(arr, l, r):\n",
    "    '''\n",
    "    l: index of the left end of the subarray\n",
    "    r: index of the right end of the subarray\n",
    "    both l and r are inclusive, meaning the traversal covers both l and r and everything in between.\n",
    "    '''\n",
    "    if len(arr) <= 1:\n",
    "        return arr\n",
    "    # if l and r are not the same position, there are still at least two elements to sort\n",
    "    if l < r:\n",
    "        # pivot index: record where the pivot ends up\n",
    "        # use l and r to control which segments of the array requires further partitioning/sorting\n",
    "        pi = partition(arr, l, r)\n",
    "        # call the recursive function after you have spelled out how one call would work\n",
    "        quickSort(arr, l, pi-1)\n",
    "        quickSort(arr, pi+1, r)\n",
    "    # because it's an in-place sort, return nothing\n",
    "    # or you can return the now sorted array\n",
    "    return arr\n",
    "\n",
    "def partition(arr, l, r):\n",
    "    # a pointer to record where the next smaller element goes\n",
    "    # it starts from the beginning of the subarray l\n",
    "    i = l\n",
    "    # use the last element of the subarray as pivot\n",
    "    pivot = arr[r]\n",
    "    # j is a pointer that traverses all elements in the array before the pivot\n",
    "    # note range() returns up to r-1\n",
    "    for j in range(l,r):\n",
    "        if arr[j] < pivot:\n",
    "            arr[i], arr[j] = arr[j], arr[i]\n",
    "            i += 1\n",
    "    # finally swap the pivot with the first element in the larger segment    \n",
    "    arr[i], arr[r] = arr[r], arr[i]\n",
    "    # now returns the location of the pivot for the next iteration\n",
    "    return i\n",
    "\n"
   ]
  },
  {
   "cell_type": "code",
   "execution_count": 29,
   "metadata": {},
   "outputs": [
    {
     "output_type": "execute_result",
     "data": {
      "text/plain": [
       "[1, 2, 3, 5, 6, 7]"
      ]
     },
     "metadata": {},
     "execution_count": 29
    }
   ],
   "source": [
    "test = [1,7,6,3,5,2]\n",
    "# partition(test, 0, 5)\n",
    "quickSort(test, 0, 5)\n",
    "# print(test)"
   ]
  },
  {
   "cell_type": "code",
   "execution_count": 21,
   "metadata": {},
   "outputs": [
    {
     "output_type": "stream",
     "name": "stdout",
     "text": [
      "[1, 7, 7, 9]\n"
     ]
    }
   ],
   "source": [
    "test = [7,1,9,7]\n",
    "quickSort(test, 0, len(test))\n",
    "print(test)"
   ]
  },
  {
   "cell_type": "code",
   "execution_count": 31,
   "metadata": {},
   "outputs": [
    {
     "output_type": "execute_result",
     "data": {
      "text/plain": [
       "[7]"
      ]
     },
     "metadata": {},
     "execution_count": 31
    }
   ],
   "source": [
    "test = [7]\n",
    "quickSort(test, 0, len(test))\n",
    "# print(test)"
   ]
  },
  {
   "cell_type": "code",
   "execution_count": 23,
   "metadata": {},
   "outputs": [
    {
     "output_type": "stream",
     "name": "stdout",
     "text": [
      "[]\n"
     ]
    }
   ],
   "source": [
    "test = []\n",
    "quickSort(test, 0, len(test))\n",
    "print(test)"
   ]
  },
  {
   "source": [
    "See a great illustration of how the partition works on https://www.geeksforgeeks.org/quick-sort/\n"
   ],
   "cell_type": "markdown",
   "metadata": {}
  },
  {
   "source": [
    "Also, illustration on the quick sort algorithm from https://www.geeksforgeeks.org/quick-sort/\n",
    "![quick sort](QuickSort2.png)"
   ],
   "cell_type": "markdown",
   "metadata": {}
  },
  {
   "cell_type": "code",
   "execution_count": null,
   "metadata": {},
   "outputs": [],
   "source": []
  }
 ]
}