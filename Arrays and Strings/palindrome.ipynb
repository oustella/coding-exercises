{
 "cells": [
  {
   "cell_type": "markdown",
   "metadata": {},
   "source": [
    "# is_palindrome"
   ]
  },
  {
   "cell_type": "code",
   "execution_count": 2,
   "metadata": {},
   "outputs": [
    {
     "name": "stdout",
     "output_type": "stream",
     "text": [
      "True\n",
      "True\n",
      "False\n"
     ]
    }
   ],
   "source": [
    "def is_palindrome(s: str) -> bool:\n",
    "    i = 0\n",
    "    j = len(s)-1\n",
    "    while i < j:\n",
    "        if s[i] != s[j]:\n",
    "            return False\n",
    "        i += 1\n",
    "        j -= 1\n",
    "    return True\n",
    "\n",
    "print(is_palindrome(\"aaa\"))\n",
    "print(is_palindrome(\"aba\"))\n",
    "print(is_palindrome(\"aab\"))\n",
    "\n"
   ]
  },
  {
   "cell_type": "code",
   "execution_count": 4,
   "metadata": {},
   "outputs": [
    {
     "name": "stdout",
     "output_type": "stream",
     "text": [
      "True\n",
      "True\n",
      "False\n"
     ]
    }
   ],
   "source": [
    "# Recursive\n",
    "def is_palindrome(s: str) -> bool:\n",
    "    if len(s) <= 1:\n",
    "        return True\n",
    "    i = 0\n",
    "    j = len(s)-1\n",
    "    if s[i] != s[j]:\n",
    "        return False\n",
    "    return is_palindrome(s[i+1: j-1])\n",
    "\n",
    "print(is_palindrome(\"aaa\"))\n",
    "print(is_palindrome(\"aba\"))\n",
    "print(is_palindrome(\"aab\"))"
   ]
  },
  {
   "cell_type": "code",
   "execution_count": 19,
   "metadata": {},
   "outputs": [
    {
     "name": "stdout",
     "output_type": "stream",
     "text": [
      "True\n",
      "True\n",
      "False\n"
     ]
    }
   ],
   "source": [
    "def is_palindrome(s: str) -> bool:\n",
    "    return s == s[::-1]\n",
    "\n",
    "print(is_palindrome(\"aaa\"))\n",
    "print(is_palindrome(\"aba\"))\n",
    "print(is_palindrome(\"aab\"))"
   ]
  },
  {
   "cell_type": "markdown",
   "metadata": {},
   "source": [
    "# Palindrome partitioning\n",
    "131. Palindrome Partitioning https://leetcode.com/problems/palindrome-partitioning\n",
    "\n",
    "Given a string s, partition s such that every substring of the partition is a palindrome.\n",
    "Return all possible palindrome partitioning of s.\n",
    "\n",
    "#dfs"
   ]
  },
  {
   "cell_type": "code",
   "execution_count": 60,
   "metadata": {},
   "outputs": [],
   "source": [
    "def partition(s: str) -> List[List[str]]:\n",
    "    res = []\n",
    "    def dfs(start, path, res):\n",
    "        if start == len(s):\n",
    "            res.append(path[:])\n",
    "            return\n",
    "        for end in range(start+1, len(s)+1):\n",
    "            prefix = s[start:end]\n",
    "            if is_palindrome(prefix):\n",
    "                path.append(prefix)\n",
    "                dfs(end, path, res)\n",
    "                path.pop()\n",
    "    def is_palindrome(s):\n",
    "        return s == s[::-1]\n",
    "    dfs(0, [], res)\n",
    "    return res\n"
   ]
  },
  {
   "cell_type": "code",
   "execution_count": 61,
   "metadata": {},
   "outputs": [
    {
     "name": "stdout",
     "output_type": "stream",
     "text": [
      "[['a', 'a', 'b', 'a'], ['a', 'aba'], ['aa', 'b', 'a']]\n"
     ]
    }
   ],
   "source": [
    "print(partition(\"aaba\"))"
   ]
  },
  {
   "cell_type": "markdown",
   "metadata": {},
   "source": [
    "# 5. Longest Palindromic Substring\n",
    "https://leetcode.com/problems/longest-palindromic-substring/\n",
    "\n",
    "#two-pointers"
   ]
  },
  {
   "cell_type": "code",
   "execution_count": 121,
   "metadata": {},
   "outputs": [],
   "source": [
    "# Exceed time limit\n",
    "def longest_palindrome(s: str) -> List[List[str]]:\n",
    "\n",
    "    temp = [(0,1)]\n",
    "    \n",
    "    def dfs(start):\n",
    "        if start == len(s):\n",
    "            return\n",
    "        for end in range(start+1, len(s)+1):\n",
    "            prefix = s[start:end]\n",
    "            if is_palindrome(prefix):\n",
    "                if len(prefix) > temp[0][1]-temp[0][0]:\n",
    "                    temp[0] = (start, end)\n",
    "                dfs(end)\n",
    "                \n",
    "    def is_palindrome(s):\n",
    "        return s == s[::-1]\n",
    "    dfs(0)\n",
    "    i, j = temp[0]\n",
    "    return s[i:j]"
   ]
  },
  {
   "cell_type": "code",
   "execution_count": 122,
   "metadata": {},
   "outputs": [
    {
     "name": "stdout",
     "output_type": "stream",
     "text": [
      "aba\n",
      "aba\n"
     ]
    }
   ],
   "source": [
    "print(longest_palindrome(\"aaba\"))\n",
    "print(longest_palindrome(\"aba\"))"
   ]
  },
  {
   "cell_type": "code",
   "execution_count": 118,
   "metadata": {},
   "outputs": [],
   "source": [
    "# This solution passes the submission. Has a O(N**2) time complexity\n",
    "def longest_palindrome(s: str) -> str:\n",
    "        \n",
    "        max_len = 0\n",
    "        cur_best = (0, 1)\n",
    "        \n",
    "        for i in range(len(s)):\n",
    "            right = i\n",
    "            while right < len(s) and s[i] == s[right]:\n",
    "                right += 1\n",
    "            \n",
    "            left = i - 1\n",
    "            while left >= 0 and right < len(s) and s[left] == s[right]:\n",
    "                left -= 1\n",
    "                right += 1\n",
    "                \n",
    "            if right - left -1 > max_len:\n",
    "                max_len = right - left - 1\n",
    "                cur_best = (left+1, right)\n",
    "            \n",
    "            print(left, right, cur_best)\n",
    "        \n",
    "        best_l, best_r = cur_best\n",
    "        return s[best_l: best_r]"
   ]
  },
  {
   "cell_type": "code",
   "execution_count": 119,
   "metadata": {},
   "outputs": [
    {
     "name": "stdout",
     "output_type": "stream",
     "text": [
      "-1 1 (0, 1)\n",
      "-1 3 (0, 3)\n",
      "1 3 (0, 3)\n",
      "aba\n"
     ]
    }
   ],
   "source": [
    "# print(longest_palindrome(\"aaba\"))\n",
    "print(longest_palindrome(\"aba\"))"
   ]
  },
  {
   "cell_type": "code",
   "execution_count": null,
   "metadata": {},
   "outputs": [],
   "source": []
  }
 ],
 "metadata": {
  "interpreter": {
   "hash": "4023a4020549a99ab93ca89615a594ad2e0faa709fdb86265b11c339299de1af"
  },
  "kernelspec": {
   "display_name": "Python 3.8.7 ('hbf-E6tUn0h8-py3.8')",
   "language": "python",
   "name": "python3"
  },
  "language_info": {
   "codemirror_mode": {
    "name": "ipython",
    "version": 3
   },
   "file_extension": ".py",
   "mimetype": "text/x-python",
   "name": "python",
   "nbconvert_exporter": "python",
   "pygments_lexer": "ipython3",
   "version": "3.8.7"
  },
  "orig_nbformat": 4
 },
 "nbformat": 4,
 "nbformat_minor": 2
}
