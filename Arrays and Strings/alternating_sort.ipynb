{
 "metadata": {
  "language_info": {
   "codemirror_mode": {
    "name": "ipython",
    "version": 3
   },
   "file_extension": ".py",
   "mimetype": "text/x-python",
   "name": "python",
   "nbconvert_exporter": "python",
   "pygments_lexer": "ipython3",
   "version": "3.8.1"
  },
  "orig_nbformat": 2,
  "kernelspec": {
   "name": "python3",
   "display_name": "Python 3.8.1 64-bit ('3.8.1': pyenv)",
   "metadata": {
    "interpreter": {
     "hash": "7b3a3da4fd0c9a68cfb7a0261cf18452ae65b217a2b1a75fb9d1433dbee3b706"
    }
   }
  }
 },
 "nbformat": 4,
 "nbformat_minor": 2,
 "cells": [
  {
   "source": [
    "# Alternating Sort\n",
    "Given an arrya, take the first element from an array, then the last, \n",
    "then the second, then the last but one in an alternating fashion.\n",
    "return Boolean whether the elements are sorted.\n",
    "\n",
    "repeating values but are in order with their neighbors are considered sorted. "
   ],
   "cell_type": "markdown",
   "metadata": {}
  },
  {
   "cell_type": "code",
   "execution_count": 24,
   "metadata": {},
   "outputs": [],
   "source": [
    "def alterSort(arr):\n",
    "    n = len(arr)\n",
    "    i = 0  # pointer from the beginning\n",
    "    j = n-1  # pointer from the end\n",
    "\n",
    "    # only need one pointer to traverse half of the array\n",
    "    # and the other pointer to meet in the middle\n",
    "    # if an even numbered array, then i stops at the beginning of the second half\n",
    "    # eg n = 4, i eventually becomes 2 and exit the while loop\n",
    "    # if an odd numbered array, then both i and j stop at the middle number\n",
    "    # eg n = 5, eventually i = j = 2\n",
    "    while i < n // 2:  \n",
    "        if arr[i] > arr[j]:\n",
    "            return False\n",
    "        # the two pointers always move together\n",
    "        i += 1\n",
    "        j -= 1\n",
    "    # if the array is odd numbered, \n",
    "    # then check whether the middle number arr[i] is smaller than \n",
    "    # the last number from the right (arr[j+1]), \n",
    "    # or compare the middle number arr[i] and the number next to it arr[i+1]\n",
    "    if n%2:\n",
    "        if arr[j+1] > arr[i]:\n",
    "            return False\n",
    "    # if both the above conditions are checked without triggering return False\n",
    "    # then the alter-arranged array is indeed checked.\n",
    "    return True"
   ]
  },
  {
   "cell_type": "code",
   "execution_count": 26,
   "metadata": {},
   "outputs": [
    {
     "output_type": "execute_result",
     "data": {
      "text/plain": [
       "True"
      ]
     },
     "metadata": {},
     "execution_count": 26
    }
   ],
   "source": [
    "test = [-52, 2, 31, 56, 47, 29, -35]\n",
    "alterSort(test)"
   ]
  },
  {
   "cell_type": "code",
   "execution_count": 31,
   "metadata": {},
   "outputs": [
    {
     "output_type": "execute_result",
     "data": {
      "text/plain": [
       "True"
      ]
     },
     "metadata": {},
     "execution_count": 31
    }
   ],
   "source": [
    "test = [-52, 2, 31, 47, 29, -35]\n",
    "alterSort(test)"
   ]
  },
  {
   "cell_type": "code",
   "execution_count": 28,
   "metadata": {},
   "outputs": [
    {
     "output_type": "execute_result",
     "data": {
      "text/plain": [
       "False"
      ]
     },
     "metadata": {},
     "execution_count": 28
    }
   ],
   "source": [
    "test = [-52, 2, 31, 40, 47, 29, -35]\n",
    "alterSort(test)"
   ]
  },
  {
   "cell_type": "code",
   "execution_count": 30,
   "metadata": {},
   "outputs": [
    {
     "output_type": "execute_result",
     "data": {
      "text/plain": [
       "False"
      ]
     },
     "metadata": {},
     "execution_count": 30
    }
   ],
   "source": [
    "test = [-52, 30, 31, 48, 47, 29, -35]\n",
    "alterSort(test)"
   ]
  },
  {
   "cell_type": "code",
   "execution_count": 25,
   "metadata": {},
   "outputs": [
    {
     "output_type": "execute_result",
     "data": {
      "text/plain": [
       "True"
      ]
     },
     "metadata": {},
     "execution_count": 25
    }
   ],
   "source": [
    "arr = [-92, -23, 0, 45, 89, 96, 99, 95, 89, 41, -17, -48]\n",
    "alterSort(arr)"
   ]
  },
  {
   "cell_type": "code",
   "execution_count": null,
   "metadata": {},
   "outputs": [],
   "source": []
  }
 ]
}