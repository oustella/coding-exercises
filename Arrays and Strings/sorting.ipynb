{
 "cells": [
  {
   "cell_type": "markdown",
   "metadata": {},
   "source": [
    "# Merge Sort\n",
    "\n",
    "- Step 1. Divid an array into halves until each array has one or zero element.\n",
    "- Step 2. Merge the individual tiny arrays by comparing the first element from each array.\n",
    "\n",
    "![merge sort](Merge-Sort-Tutorial.png)\n",
    "Source: https://www.geeksforgeeks.org/merge-sort/"
   ]
  },
  {
   "cell_type": "code",
   "execution_count": 68,
   "metadata": {},
   "outputs": [],
   "source": [
    "def merge_sort(nums):\n",
    "    # the base case, the stopping condition\n",
    "    if len(nums) <= 1:\n",
    "        return nums\n",
    "    mid = len(nums) // 2\n",
    "    left_sorted = merge_sort(nums[:mid])\n",
    "    right_sorted = merge_sort(nums[mid:])\n",
    "    return merge(left_sorted, right_sorted)\n",
    "\n",
    "def merge(arr1, arr2):\n",
    "    if len(arr1) == 0:\n",
    "        return arr2\n",
    "    if len(arr2) == 0:\n",
    "        return arr1\n",
    "    if arr1[0] <= arr2[0]:\n",
    "        return [arr1[0]] + merge(arr1[1:], arr2)\n",
    "    else:\n",
    "        return [arr2[0]] + merge(arr1, arr2[1:])"
   ]
  },
  {
   "cell_type": "markdown",
   "metadata": {},
   "source": [
    "# Quick Sort"
   ]
  },
  {
   "cell_type": "markdown",
   "metadata": {},
   "source": [
    "The key idea of quick sort is to anchor on a pivot element p, and put all elements smallers than p to its left, and all larger elements to its right. Then do this recursively for the new left segments and right segments, until there is only one element in the segment.\n",
    "\n",
    "It is an in-place sort. Average time complexity is O(nlogn). It's usually preferred over Merge Sort for its in-place operation, even though its worst time complexity can be O(n**2) when the array is already sorted. Merge Sort is a better alternative for sorting Linked List because it is hard to randomly accessing a node in a Linked List and the space complexity is not a concern for Linked List. "
   ]
  },
  {
   "cell_type": "code",
   "execution_count": 61,
   "metadata": {},
   "outputs": [],
   "source": [
    "def quickSort(arr, l, r):\n",
    "    '''\n",
    "    l: index of the left end of the subarray\n",
    "    r: index of the right end of the subarray\n",
    "    both l and r are inclusive, meaning the traversal covers both l and r and everything in between.\n",
    "    '''\n",
    "    if len(arr) <= 1:\n",
    "        return arr\n",
    "    # if l and r are not the same position, there are still at least two elements to sort\n",
    "    if l < r:\n",
    "        # pivot index: record where the pivot ends up\n",
    "        # use l and r to control which segments of the array requires further partitioning/sorting\n",
    "        pi = partition(arr, l, r)\n",
    "        # call the recursive function after you have spelled out how one call would work\n",
    "        quickSort(arr, l, pi-1)\n",
    "        quickSort(arr, pi+1, r)\n",
    "    # because it's an in-place sort, return nothing\n",
    "    # or you can return the now sorted array\n",
    "    return arr\n",
    "\n",
    "def partition(arr, l, r):\n",
    "    # i is a pointer to record where the next smaller element goes\n",
    "    # it starts from the beginning of the subarray l\n",
    "    i = l\n",
    "    # use the last element of the subarray as pivot\n",
    "    pivot = arr[r]\n",
    "    # j is a pointer that traverses all elements in the array from the left \n",
    "    # and stops before the pivot\n",
    "    for j in range(l,r):\n",
    "        # if arr[j] is smaller than pivot it goes to the i location\n",
    "        # the increment i location by 1\n",
    "        if arr[j] < pivot:\n",
    "            arr[i], arr[j] = arr[j], arr[i]\n",
    "            i += 1\n",
    "    # finally swap the pivot with the first element in the larger segment    \n",
    "    arr[i], arr[r] = arr[r], arr[i]\n",
    "    # now returns the location of the pivot for the next iteration\n",
    "    return i\n"
   ]
  },
  {
   "cell_type": "code",
   "execution_count": 63,
   "metadata": {},
   "outputs": [
    {
     "name": "stdout",
     "output_type": "stream",
     "text": [
      "[1, 2, 2, 3, 5, 6]\n"
     ]
    }
   ],
   "source": [
    "test = [2,2,6,3,5,1]\n",
    "# print(partition(test, 0, 5))\n",
    "quickSort(test, 0, 5)\n",
    "print(test)"
   ]
  },
  {
   "cell_type": "code",
   "execution_count": 64,
   "metadata": {},
   "outputs": [
    {
     "name": "stdout",
     "output_type": "stream",
     "text": [
      "0\n",
      "[1, 12, 6, 3, 5, 12]\n"
     ]
    }
   ],
   "source": [
    "test = [12,12,6,3,5,1]\n",
    "print(partition(test, 0, 5))\n",
    "# quickSort(test, 0, 5)\n",
    "print(test)"
   ]
  },
  {
   "cell_type": "code",
   "execution_count": 21,
   "metadata": {},
   "outputs": [
    {
     "name": "stdout",
     "output_type": "stream",
     "text": [
      "[1, 7, 7, 9]\n"
     ]
    }
   ],
   "source": [
    "test = [7,1,9,7]\n",
    "quickSort(test, 0, len(test))\n",
    "print(test)"
   ]
  },
  {
   "cell_type": "code",
   "execution_count": 31,
   "metadata": {},
   "outputs": [
    {
     "data": {
      "text/plain": [
       "[7]"
      ]
     },
     "execution_count": 31,
     "metadata": {},
     "output_type": "execute_result"
    }
   ],
   "source": [
    "test = [7]\n",
    "quickSort(test, 0, len(test))\n",
    "print(test)"
   ]
  },
  {
   "cell_type": "code",
   "execution_count": 23,
   "metadata": {},
   "outputs": [
    {
     "name": "stdout",
     "output_type": "stream",
     "text": [
      "[]\n"
     ]
    }
   ],
   "source": [
    "test = []\n",
    "quickSort(test, 0, len(test))\n",
    "print(test)"
   ]
  },
  {
   "cell_type": "markdown",
   "metadata": {},
   "source": [
    "See a great illustration of how the partition works on https://www.geeksforgeeks.org/quick-sort/\n"
   ]
  },
  {
   "cell_type": "markdown",
   "metadata": {},
   "source": [
    "Also, illustration on the quick sort algorithm from https://www.geeksforgeeks.org/quick-sort/\n",
    "![quick sort](QuickSort2.png)"
   ]
  },
  {
   "cell_type": "code",
   "execution_count": 70,
   "metadata": {},
   "outputs": [
    {
     "name": "stdout",
     "output_type": "stream",
     "text": [
      "2\n",
      "1\n",
      "0\n"
     ]
    }
   ],
   "source": [
    "for i in reversed(range(3)):\n",
    "    print(i)"
   ]
  },
  {
   "cell_type": "code",
   "execution_count": null,
   "metadata": {},
   "outputs": [],
   "source": []
  }
 ],
 "metadata": {
  "kernelspec": {
   "display_name": "Python 3.8.1 64-bit ('3.8.1': pyenv)",
   "metadata": {
    "interpreter": {
     "hash": "7b3a3da4fd0c9a68cfb7a0261cf18452ae65b217a2b1a75fb9d1433dbee3b706"
    }
   },
   "name": "python3"
  },
  "language_info": {
   "codemirror_mode": {
    "name": "ipython",
    "version": 3
   },
   "file_extension": ".py",
   "mimetype": "text/x-python",
   "name": "python",
   "nbconvert_exporter": "python",
   "pygments_lexer": "ipython3",
   "version": "3.8.7"
  },
  "orig_nbformat": 2
 },
 "nbformat": 4,
 "nbformat_minor": 2
}
