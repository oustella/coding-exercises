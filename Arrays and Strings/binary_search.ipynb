{
 "cells": [
  {
   "cell_type": "markdown",
   "metadata": {},
   "source": [
    "# Binary Search and Pivot Binary Search\n",
    "\n",
    "## Binary Search\n",
    "Given a sorted array, return the index of the target in O(Log(n)) time."
   ]
  },
  {
   "cell_type": "code",
   "execution_count": 14,
   "metadata": {},
   "outputs": [],
   "source": [
    "from typing import List\n",
    "def binary_search_recursive(arr: List[int], target: int) -> int:\n",
    "    def helper(l, r):\n",
    "        if l > r:\n",
    "            return -1  # [1]\n",
    "        mid = (l+r) // 2\n",
    "        if arr[mid] == target:\n",
    "            return mid\n",
    "        if arr[mid] > target:\n",
    "            return helper(l, mid-1)\n",
    "        if arr[mid] < target:\n",
    "            return helper(mid+1, r)\n",
    "    return helper(0, len(arr)-1)  #[2]\n",
    "\n",
    "    # [1] terminating condition is crucial if a target is smaller than the smallest element in arr,\n",
    "    # as it would lead to l = 0, r = -1. Similarly, when a target is larger than the largest element in arr\n",
    "    # l = len(arr)-1+1, r = len(arr)-1\n",
    "    # [2] r needs to be the last valid index. Otherwise, when a target is larger than the largest element,\n",
    "    # it will push l and r to overlap on the last element of the array."
   ]
  },
  {
   "cell_type": "code",
   "execution_count": null,
   "metadata": {},
   "outputs": [
    {
     "name": "stdout",
     "output_type": "stream",
     "text": [
      "-1\n"
     ]
    }
   ],
   "source": [
    "test = [1,2,3,4,5]\n",
    "target = 10\n",
    "print(binary_search_recursive(test, target))"
   ]
  },
  {
   "cell_type": "markdown",
   "metadata": {},
   "source": [
    "## Pivot binary search\n",
    "A sorted array is known to have been shifted at certain point called pivot, where arr[p] > arr[p+1]. All elements before the pivot is sorted, so are all after pivot. E.g. in arr = [4,5,6,1,2,3] we have pivot index p = 2. Find a given target in this shifted sorted array. Return -1 if the target doesn't exist.\n",
    "\n",
    "**Strategy**\n",
    "- Step 1. Find the pivot point\n",
    "- Step 2. If target is greater than the largest item on the right sorted subarray, do binary search for it on the left part. If target is smaller than the smallest item on the left part, do binary search on the right."
   ]
  },
  {
   "cell_type": "code",
   "execution_count": null,
   "metadata": {},
   "outputs": [],
   "source": []
  },
  {
   "cell_type": "code",
   "execution_count": 21,
   "metadata": {},
   "outputs": [],
   "source": [
    "def pivot_binary_search(arr: List[int], target: int) -> int:\n",
    "    \n",
    "    def find_pivot(arr):\n",
    "        l = 0\n",
    "        r = len(arr)-1\n",
    "        bound = 0\n",
    "        while l <= r:\n",
    "            mid = (l+r) // 2\n",
    "            if arr[mid] <= arr[-1]:\n",
    "                r = mid - 1\n",
    "            else:\n",
    "                bound = mid\n",
    "                l = mid + 1\n",
    "        return bound\n",
    "    \n",
    "    def binary_search(arr, l, r, target):\n",
    "        if l > r:\n",
    "            return -1\n",
    "        mid = (l+r)//2\n",
    "        if arr[mid] == target:\n",
    "            return mid\n",
    "        if arr[mid] > target:\n",
    "            return binary_search(arr, l, mid-1, target)\n",
    "        if arr[mid] < target:\n",
    "            return binary_search(arr, mid+1, r, target)\n",
    "\n",
    "    p = find_pivot(arr)\n",
    "    print('Pivot is', arr[p])\n",
    "    if target == arr[p]:\n",
    "        return p\n",
    "    if target < arr[0]:\n",
    "        return binary_search(arr, p+1, len(arr)-1, target)\n",
    "    if target > arr[-1]:\n",
    "        return binary_search(arr, 0, p-1, target)\n",
    "\n",
    "\n",
    "\n"
   ]
  },
  {
   "cell_type": "code",
   "execution_count": 22,
   "metadata": {},
   "outputs": [
    {
     "name": "stdout",
     "output_type": "stream",
     "text": [
      "Pivot is 6\n"
     ]
    },
    {
     "data": {
      "text/plain": [
       "-1"
      ]
     },
     "execution_count": 22,
     "metadata": {},
     "output_type": "execute_result"
    }
   ],
   "source": [
    "test = [4,5,6,1,2,3]\n",
    "pivot_binary_search(test, 9)"
   ]
  },
  {
   "cell_type": "code",
   "execution_count": null,
   "metadata": {},
   "outputs": [],
   "source": []
  }
 ],
 "metadata": {
  "interpreter": {
   "hash": "4023a4020549a99ab93ca89615a594ad2e0faa709fdb86265b11c339299de1af"
  },
  "kernelspec": {
   "display_name": "Python 3.8.7 ('hbf-E6tUn0h8-py3.8')",
   "language": "python",
   "name": "python3"
  },
  "language_info": {
   "codemirror_mode": {
    "name": "ipython",
    "version": 3
   },
   "file_extension": ".py",
   "mimetype": "text/x-python",
   "name": "python",
   "nbconvert_exporter": "python",
   "pygments_lexer": "ipython3",
   "version": "3.8.7"
  },
  "orig_nbformat": 4
 },
 "nbformat": 4,
 "nbformat_minor": 2
}
