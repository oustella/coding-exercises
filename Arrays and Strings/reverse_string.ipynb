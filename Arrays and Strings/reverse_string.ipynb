{
 "metadata": {
  "language_info": {
   "codemirror_mode": {
    "name": "ipython",
    "version": 3
   },
   "file_extension": ".py",
   "mimetype": "text/x-python",
   "name": "python",
   "nbconvert_exporter": "python",
   "pygments_lexer": "ipython3",
   "version": "3.8.1"
  },
  "orig_nbformat": 2,
  "kernelspec": {
   "name": "python3",
   "display_name": "Python 3.8.1 64-bit ('3.8.1': pyenv)",
   "metadata": {
    "interpreter": {
     "hash": "7b3a3da4fd0c9a68cfb7a0261cf18452ae65b217a2b1a75fb9d1433dbee3b706"
    }
   }
  }
 },
 "nbformat": 4,
 "nbformat_minor": 2,
 "cells": [
  {
   "source": [
    "This is a smart solution from algodaily.com. String variables support concatenation and a new character can be added to either the beginning or the end of the string based on the order of the formula (see example below). Note how the line is `tmp = char + temp` rather than `tmp += char`, as the latter will add the new character at the end of the current `tmp`\n"
   ],
   "cell_type": "markdown",
   "metadata": {}
  },
  {
   "cell_type": "code",
   "execution_count": 1,
   "metadata": {},
   "outputs": [],
   "source": [
    "def reverse_string(s):\n",
    "    tmp = \"\"\n",
    "    for char in s:\n",
    "        tmp = char + tmp\n",
    "    return tmp"
   ]
  },
  {
   "cell_type": "code",
   "execution_count": 2,
   "metadata": {},
   "outputs": [
    {
     "output_type": "execute_result",
     "data": {
      "text/plain": [
       "'olleh'"
      ]
     },
     "metadata": {},
     "execution_count": 2
    }
   ],
   "source": [
    "reverse_string(\"hello\")"
   ]
  },
  {
   "cell_type": "code",
   "execution_count": 4,
   "metadata": {},
   "outputs": [
    {
     "output_type": "execute_result",
     "data": {
      "text/plain": [
       "'astrong'"
      ]
     },
     "metadata": {},
     "execution_count": 4
    }
   ],
   "source": [
    "\"a\"+\"strong\""
   ]
  },
  {
   "cell_type": "code",
   "execution_count": 7,
   "metadata": {},
   "outputs": [
    {
     "output_type": "execute_result",
     "data": {
      "text/plain": [
       "'stronga'"
      ]
     },
     "metadata": {},
     "execution_count": 7
    }
   ],
   "source": [
    "\"strong\"+\"a\""
   ]
  },
  {
   "source": [
    "This is a \"traditional\" method with O(N) time complexity, utilizing two pointers from both ends. Note `str` vars are immutable, so you cannot do in-place swap."
   ],
   "cell_type": "markdown",
   "metadata": {}
  },
  {
   "cell_type": "code",
   "execution_count": 14,
   "metadata": {},
   "outputs": [],
   "source": [
    "def reverse_string(str1):\n",
    "    left_ptr = 0\n",
    "    right_ptr = len(str1)-1\n",
    "    # convert the string to a list for modification\n",
    "    mod_str = list(str1)\n",
    "    while left_ptr < len(str1)//2:\n",
    "        # swap the two characters on two ends and meet in the middle\n",
    "        # leaving out the middle character if odd number lenghted string\n",
    "        mod_str[left_ptr], mod_str[right_ptr] = mod_str[right_ptr], mod_str[left_ptr]\n",
    "        left_ptr += 1\n",
    "        right_ptr -= 1\n",
    "    str1 = \"\".join(mod_str)\n",
    "    \n",
    "    return str1"
   ]
  },
  {
   "cell_type": "code",
   "execution_count": 15,
   "metadata": {},
   "outputs": [
    {
     "output_type": "execute_result",
     "data": {
      "text/plain": [
       "'olleh'"
      ]
     },
     "metadata": {},
     "execution_count": 15
    }
   ],
   "source": [
    "reverse_string(\"hello\")"
   ]
  },
  {
   "cell_type": "code",
   "execution_count": 16,
   "metadata": {},
   "outputs": [
    {
     "output_type": "execute_result",
     "data": {
      "text/plain": [
       "'ybba'"
      ]
     },
     "metadata": {},
     "execution_count": 16
    }
   ],
   "source": [
    "reverse_string(\"abby\")"
   ]
  },
  {
   "source": [
    "Extension"
   ],
   "cell_type": "markdown",
   "metadata": {}
  },
  {
   "source": [
    "# the str.split() method is good for splitting sentences into words\n",
    "a = \"hello my world\"\n",
    "a.split()"
   ],
   "cell_type": "code",
   "metadata": {},
   "execution_count": 17,
   "outputs": [
    {
     "output_type": "execute_result",
     "data": {
      "text/plain": [
       "['hello', 'my', 'world']"
      ]
     },
     "metadata": {},
     "execution_count": 17
    }
   ]
  },
  {
   "cell_type": "code",
   "execution_count": 20,
   "metadata": {},
   "outputs": [
    {
     "output_type": "execute_result",
     "data": {
      "text/plain": [
       "['hello']"
      ]
     },
     "metadata": {},
     "execution_count": 20
    }
   ],
   "source": [
    "# but not for splitting a word into characters\n",
    "\"hello\".split()"
   ]
  },
  {
   "cell_type": "code",
   "execution_count": null,
   "metadata": {},
   "outputs": [],
   "source": []
  }
 ]
}