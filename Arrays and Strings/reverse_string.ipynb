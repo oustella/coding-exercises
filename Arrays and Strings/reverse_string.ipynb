{
 "cells": [
  {
   "cell_type": "markdown",
   "metadata": {},
   "source": [
    "This is a smart solution from algodaily.com. String variables support concatenation and a new character can be added to either the beginning or the end of the string based on the order of the formula (see example below). Note how the line is `tmp = char + temp` rather than `tmp += char`, as the latter will add the new character at the end of the current `tmp`\n"
   ]
  },
  {
   "cell_type": "code",
   "execution_count": 1,
   "metadata": {},
   "outputs": [],
   "source": [
    "def reverse_string(s):\n",
    "    tmp = \"\"\n",
    "    for char in s:\n",
    "        tmp = char + tmp\n",
    "    return tmp"
   ]
  },
  {
   "cell_type": "code",
   "execution_count": 2,
   "metadata": {},
   "outputs": [
    {
     "data": {
      "text/plain": [
       "'olleh'"
      ]
     },
     "execution_count": 2,
     "metadata": {},
     "output_type": "execute_result"
    }
   ],
   "source": [
    "reverse_string(\"hello\")"
   ]
  },
  {
   "cell_type": "code",
   "execution_count": 4,
   "metadata": {},
   "outputs": [
    {
     "data": {
      "text/plain": [
       "'astrong'"
      ]
     },
     "execution_count": 4,
     "metadata": {},
     "output_type": "execute_result"
    }
   ],
   "source": [
    "\"a\"+\"strong\""
   ]
  },
  {
   "cell_type": "code",
   "execution_count": 7,
   "metadata": {},
   "outputs": [
    {
     "data": {
      "text/plain": [
       "'stronga'"
      ]
     },
     "execution_count": 7,
     "metadata": {},
     "output_type": "execute_result"
    }
   ],
   "source": [
    "\"strong\"+\"a\""
   ]
  },
  {
   "cell_type": "markdown",
   "metadata": {},
   "source": [
    "This is a \"traditional\" method with O(N) time complexity, utilizing two pointers from both ends. Note `str` vars are immutable, so you cannot do in-place swap."
   ]
  },
  {
   "cell_type": "code",
   "execution_count": 14,
   "metadata": {},
   "outputs": [],
   "source": [
    "def reverse_string(str1):\n",
    "    left_ptr = 0\n",
    "    right_ptr = len(str1)-1\n",
    "    # convert the string to a list for modification\n",
    "    mod_str = list(str1)\n",
    "    while left_ptr < len(str1)//2:\n",
    "        # swap the two characters on two ends and meet in the middle\n",
    "        # leaving out the middle character for odd number lengthed string\n",
    "        mod_str[left_ptr], mod_str[right_ptr] = mod_str[right_ptr], mod_str[left_ptr]\n",
    "        left_ptr += 1\n",
    "        right_ptr -= 1\n",
    "    str1 = \"\".join(mod_str)\n",
    "    \n",
    "    return str1"
   ]
  },
  {
   "cell_type": "code",
   "execution_count": 15,
   "metadata": {},
   "outputs": [
    {
     "data": {
      "text/plain": [
       "'olleh'"
      ]
     },
     "execution_count": 15,
     "metadata": {},
     "output_type": "execute_result"
    }
   ],
   "source": [
    "reverse_string(\"hello\")"
   ]
  },
  {
   "cell_type": "code",
   "execution_count": 16,
   "metadata": {},
   "outputs": [
    {
     "data": {
      "text/plain": [
       "'ybba'"
      ]
     },
     "execution_count": 16,
     "metadata": {},
     "output_type": "execute_result"
    }
   ],
   "source": [
    "reverse_string(\"abby\")"
   ]
  },
  {
   "cell_type": "markdown",
   "metadata": {},
   "source": [
    "Extension"
   ]
  },
  {
   "cell_type": "code",
   "execution_count": 17,
   "metadata": {},
   "outputs": [
    {
     "data": {
      "text/plain": [
       "['hello', 'my', 'world']"
      ]
     },
     "execution_count": 17,
     "metadata": {},
     "output_type": "execute_result"
    }
   ],
   "source": [
    "# the str.split() method is good for splitting sentences into words\n",
    "a = \"hello my world\"\n",
    "a.split()"
   ]
  },
  {
   "cell_type": "code",
   "execution_count": 20,
   "metadata": {},
   "outputs": [
    {
     "data": {
      "text/plain": [
       "['hello']"
      ]
     },
     "execution_count": 20,
     "metadata": {},
     "output_type": "execute_result"
    }
   ],
   "source": [
    "# but not for splitting a word into characters\n",
    "\"hello\".split()"
   ]
  },
  {
   "cell_type": "code",
   "execution_count": null,
   "metadata": {},
   "outputs": [],
   "source": []
  }
 ],
 "metadata": {
  "kernelspec": {
   "display_name": "Python 3.8.1 64-bit ('3.8.1': pyenv)",
   "name": "python381jvsc74a57bd07b3a3da4fd0c9a68cfb7a0261cf18452ae65b217a2b1a75fb9d1433dbee3b706"
  },
  "language_info": {
   "name": "python",
   "version": ""
  },
  "orig_nbformat": 2
 },
 "nbformat": 4,
 "nbformat_minor": 2
}