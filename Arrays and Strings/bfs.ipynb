{
 "cells": [
  {
   "cell_type": "markdown",
   "metadata": {},
   "source": [
    "# Breadth First Search\n",
    "\n",
    "## When to use BFS? \n",
    "- Get shortest distance\n",
    "- When total number of nodes is unknown/infinite.\n",
    "\n",
    "## Template"
   ]
  },
  {
   "cell_type": "code",
   "execution_count": null,
   "metadata": {
    "vscode": {
     "languageId": "plaintext"
    }
   },
   "outputs": [],
   "source": [
    "from collections import deque\n",
    "# bfs for tree\n",
    "def bfs(root):\n",
    "    queue = deque([root])\n",
    "    while queue:\n",
    "        node = queue.popleft()\n",
    "        for child in node.children:\n",
    "            if OK(child):\n",
    "                return FOUND(child)\n",
    "            queue.append(child)\n",
    "    return NOT_FOUND"
   ]
  },
  {
   "cell_type": "code",
   "execution_count": null,
   "metadata": {
    "vscode": {
     "languageId": "plaintext"
    }
   },
   "outputs": [],
   "source": [
    "# bfs for graph. Just need to keep track of the visited nodes.\n",
    "def bfs(node):\n",
    "    queue = deque([node])\n",
    "    visited = set()\n",
    "    level = 0\n",
    "    while queue:\n",
    "        n = len(queue)\n",
    "        # use this for loop to keep track of levels\n",
    "        for _ in range(n):\n",
    "            cur = queue.popleft()\n",
    "            if OK(cur):\n",
    "                return FOUND(cur)\n",
    "            if hasNeighbors(cur):\n",
    "                for neighbor in getNeighbors(cur):\n",
    "                    if neighbor not in visited:\n",
    "                        queue.append(neighbor)\n",
    "                        visited.add(neighbor)\n",
    "        level += 1"
   ]
  },
  {
   "cell_type": "markdown",
   "metadata": {},
   "source": [
    "## Compare with DFS iterative approach\n",
    "The main difference is that DFS pops the newly added nodes first (stack) and BFS pops all existing nodes from a level before doing the next level (queue)\n",
    "\n",
    "## When to use DFS?\n",
    "- Finding an exit in a maze. The answer node is far away from beginning."
   ]
  },
  {
   "cell_type": "code",
   "execution_count": null,
   "metadata": {
    "vscode": {
     "languageId": "plaintext"
    }
   },
   "outputs": [],
   "source": [
    "def dfs(graph: dict, startnode):\n",
    "    if not graph:\n",
    "        return\n",
    "    stack, visited = [startnode], []\n",
    "    while stack:\n",
    "        node = stack.pop()\n",
    "        visited.append(node)\n",
    "        if node in graph:\n",
    "            children = graph[node]\n",
    "            for child in children:\n",
    "                if child not in visited:\n",
    "                    stack.append(child)"
   ]
  },
  {
   "cell_type": "markdown",
   "metadata": {},
   "source": []
  }
 ],
 "metadata": {
  "language_info": {
   "name": "python"
  },
  "orig_nbformat": 4
 },
 "nbformat": 4,
 "nbformat_minor": 2
}
