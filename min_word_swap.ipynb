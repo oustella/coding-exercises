{
 "cells": [
  {
   "cell_type": "code",
   "execution_count": 1,
   "metadata": {},
   "outputs": [],
   "source": [
    "# you can also switch one letter at a time\n",
    "# return how many times the start word will become the end word using the options in the word bank\n",
    "# if not possible, return -1\n",
    "start = 'cat'\n",
    "end = 'can'\n",
    "wordBank = ['hat', 'bat', 'can']"
   ]
  },
  {
   "cell_type": "code",
   "execution_count": 79,
   "metadata": {},
   "outputs": [],
   "source": [
    "from collections import deque\n",
    "\n",
    "def varyByOne(a, b):\n",
    "    '''\n",
    "    a and b are equal length.\n",
    "    '''\n",
    "    if a == b:\n",
    "        return False\n",
    "    count = 0\n",
    "    for i in range(len(a)):\n",
    "        if a[i] != b[i]:\n",
    "            count += 1\n",
    "            if count > 1:\n",
    "                return False\n",
    "    return True\n",
    "\n",
    "# Solution 1\n",
    "def getShortest(start, end, wordBank):\n",
    "    stepCount = 0\n",
    "    visited, nextSteps = set(), deque([[start]])\n",
    "    while nextSteps:\n",
    "        curLevel = nextSteps.popleft()\n",
    "        stepCount += 1\n",
    "        newLevel = []\n",
    "        for cur in curLevel:\n",
    "            visited.add(cur)    \n",
    "            if cur == end:\n",
    "                return stepCount\n",
    "            for candidate in wordBank:\n",
    "                if varyByOne(candidate, cur) and candidate not in visited:\n",
    "                    newLevel.append(candidate)\n",
    "        nextSteps.append(newLevel)\n",
    "    return -1"
   ]
  },
  {
   "cell_type": "markdown",
   "metadata": {},
   "source": [
    "The key is to observe that all candidates with one change are on the same level and should only be counted as 1 step. "
   ]
  },
  {
   "cell_type": "code",
   "execution_count": null,
   "metadata": {},
   "outputs": [],
   "source": [
    "# Solution 2\n",
    "def getShortest(start, end, wordBank):\n",
    "    stepCount = 0\n",
    "    visited, nextSteps = set(), deque([[start]])\n",
    "    while nextSteps:\n",
    "        stepCount += 1\n",
    "        n = len(nextSteps)  # n is how many nodes in this level\n",
    "        for _ in range(n):\n",
    "            cur = nextSteps.leftpop()\n",
    "            visited.add(cur)\n",
    "            if cur == end:\n",
    "                return stepCount  # BFS guarantees that the found path is the shortest one because all possibilities are tried at every step\n",
    "            for candidate in wordBank:  # append the next level children without modifying n\n",
    "                if varyByOne(candidate, cur) and candidate not in visited:\n",
    "                    nextSteps.append(candidate)\n",
    "    return -1"
   ]
  },
  {
   "cell_type": "code",
   "execution_count": 80,
   "metadata": {},
   "outputs": [
    {
     "name": "stdout",
     "output_type": "stream",
     "text": [
      "['hat', 'bat', 'can']\n"
     ]
    },
    {
     "data": {
      "text/plain": [
       "2"
      ]
     },
     "execution_count": 80,
     "metadata": {},
     "output_type": "execute_result"
    }
   ],
   "source": [
    "getShortest(start, end, wordBank)"
   ]
  },
  {
   "cell_type": "code",
   "execution_count": 81,
   "metadata": {},
   "outputs": [
    {
     "name": "stdout",
     "output_type": "stream",
     "text": [
      "['hot']\n",
      "['dot', 'lot']\n",
      "['dog', 'lot', 'log']\n",
      "['log', 'cog', 'log', 'cog']\n"
     ]
    },
    {
     "data": {
      "text/plain": [
       "5"
      ]
     },
     "execution_count": 81,
     "metadata": {},
     "output_type": "execute_result"
    }
   ],
   "source": [
    "beginWord = \"hit\"\n",
    "endWord   = \"cog\"\n",
    "wordList  = [\"hot\",\"dot\",\"dog\",\"lot\",\"log\",\"cog\"]\n",
    "getShortest(beginWord, endWord, wordList)"
   ]
  },
  {
   "cell_type": "markdown",
   "metadata": {},
   "source": [
    "Output: 5\n",
    "Explanation: One shortest transformation sequence is \"hit\" -> \"hot\" -> \"dot\" -> \"dog\" -> cog\", which is 5 words long."
   ]
  },
  {
   "cell_type": "code",
   "execution_count": 69,
   "metadata": {},
   "outputs": [],
   "source": [
    "# Solution 3\n",
    "def getShortest(start, end, wordBank):\n",
    "    queue = deque()\n",
    "    queue.append([start, start, 1])\n",
    "    while queue:\n",
    "        # numSteps is attached to the cur node\n",
    "        cur, prev, numSteps = queue.popleft()\n",
    "        if cur == end:\n",
    "            return numSteps\n",
    "        for string in wordBank:\n",
    "            if varyByOne(cur, string) and string!= prev:\n",
    "                queue.append([string, cur, numSteps+1])\n",
    "\n",
    "    return -1"
   ]
  },
  {
   "cell_type": "code",
   "execution_count": 72,
   "metadata": {
    "tags": []
   },
   "outputs": [
    {
     "data": {
      "text/plain": [
       "6"
      ]
     },
     "execution_count": 72,
     "metadata": {},
     "output_type": "execute_result"
    }
   ],
   "source": [
    "beginWord = \"hit\"\n",
    "endWord   = \"cog\"\n",
    "wordList  = [\"hot\",\"dot\",\"dog\",\"lot\",\"log\",\"cog\"]\n",
    "getShortest(beginWord, endWord, wordList)"
   ]
  },
  {
   "cell_type": "code",
   "execution_count": 37,
   "metadata": {},
   "outputs": [
    {
     "name": "stdout",
     "output_type": "stream",
     "text": [
      "cat cat 0\n",
      "hat cat 1\n",
      "bat cat 1\n",
      "can cat 1\n"
     ]
    },
    {
     "data": {
      "text/plain": [
       "1"
      ]
     },
     "execution_count": 37,
     "metadata": {},
     "output_type": "execute_result"
    }
   ],
   "source": [
    "getShortest(start, end, wordBank)"
   ]
  },
  {
   "cell_type": "code",
   "execution_count": null,
   "metadata": {},
   "outputs": [],
   "source": []
  }
 ],
 "metadata": {
  "language_info": {},
  "orig_nbformat": 3
 },
 "nbformat": 4,
 "nbformat_minor": 2
}