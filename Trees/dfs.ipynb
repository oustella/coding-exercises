{
 "cells": [
  {
   "cell_type": "markdown",
   "metadata": {},
   "source": [
    "# Depth First Search\n",
    "\n",
    "## Keywords to look for\n",
    "- \"How many ways..\" (combinatorial search, permutations)\n",
    "- \"Max xx in a tree..\" (\"Shortest xx in a tree\" is usually BFS)\n",
    "- \"Max sequence..\"\n",
    "- \"Partition/split.. array/string\"\n",
    "- \"Matrix\"\n",
    "- \"Graph\""
   ]
  },
  {
   "cell_type": "markdown",
   "metadata": {},
   "source": [
    "## Template"
   ]
  },
  {
   "cell_type": "code",
   "execution_count": 18,
   "metadata": {},
   "outputs": [],
   "source": [
    "## Template\n",
    "def dfs(node, state):\n",
    "    if not node:\n",
    "        ...\n",
    "        return \n",
    "    left = dfs(node.left, state)\n",
    "    right = dfs(node.right, state)\n",
    "    ...\n",
    "    return"
   ]
  },
  {
   "cell_type": "code",
   "execution_count": 28,
   "metadata": {},
   "outputs": [],
   "source": [
    "# Example. Finding the largest number from a binary tree\n",
    "# Use return value\n",
    "def dfs(node):\n",
    "    if not node:\n",
    "        return -float(\"inf\")\n",
    "    return max(node.val, dfs(node.left), dfs(node.right)) #[1]\n",
    "\n",
    "# [1] when you reach a leaf node, it will return the value itself because max(node.val, -inf, -inf) = node.val\n",
    "\n",
    "# Use global variable. Not ideal. \n",
    "def find_largest(root):\n",
    "    max_val = -float(\"inf\")\n",
    "    def dfs(node):\n",
    "        nonlocal max_val\n",
    "        if not node:\n",
    "            return\n",
    "        if node.val > max_val:\n",
    "            max_val = node.val\n",
    "        dfs(node.left)\n",
    "        dfs(node.right)\n",
    "    dfs(root) \n",
    "        \n",
    "    return max_val"
   ]
  },
  {
   "cell_type": "markdown",
   "metadata": {},
   "source": [
    "-> See this article on when to use global variable https://windsooon.github.io/2019/08/23/How%20to%20use%20global%20variables%20correctly/\n"
   ]
  },
  {
   "cell_type": "code",
   "execution_count": 34,
   "metadata": {},
   "outputs": [
    {
     "name": "stdout",
     "output_type": "stream",
     "text": [
      "5\n",
      "5\n"
     ]
    }
   ],
   "source": [
    "class Node:\n",
    "    def __init__(self, key):\n",
    "        self.left = None\n",
    "        self.right = None\n",
    "        self.val = key\n",
    "\n",
    "root = Node(1)\n",
    "root.left = Node(2)\n",
    "root.right = Node(3)\n",
    "root.left.left= Node(4)\n",
    "root.left.right = Node(5)\n",
    "\n",
    "print(dfs(root))\n",
    "print(find_largest(root))\n"
   ]
  },
  {
   "cell_type": "markdown",
   "metadata": {},
   "source": [
    "## Permutations\n",
    "Given a string of unique letters, find all of its distinct permutations.\n",
    "O(N!) time"
   ]
  },
  {
   "cell_type": "code",
   "execution_count": 44,
   "metadata": {},
   "outputs": [
    {
     "name": "stdout",
     "output_type": "stream",
     "text": [
      "['abc', 'acb', 'bac', 'bca', 'cab', 'cba']\n"
     ]
    }
   ],
   "source": [
    "def permutations(s: str):\n",
    "    res = []\n",
    "    visited = [False for _ in range(len(s))]\n",
    "    def dfs(path, res, visited):\n",
    "        if len(path) == len(s):\n",
    "            res.append(\"\".join(path[:]))\n",
    "            return \n",
    "        for i, char in enumerate(s):\n",
    "            if not visited[i]:\n",
    "                path.append(char)\n",
    "                visited[i] = True\n",
    "                dfs(path, res, visited)\n",
    "                path.pop()\n",
    "                visited[i] = False\n",
    "    dfs([], res, visited)\n",
    "    return res\n",
    "print(permutations(\"abc\"))\n",
    "\n"
   ]
  },
  {
   "cell_type": "markdown",
   "metadata": {},
   "source": [
    "### Topological Sort\n",
    "\n",
    "A topological sort is an ordering of nodes for a directed acyclic graph (DAG) \n",
    "such that for every directed edge u -> v from vertex u to vertex v, u comes before v in the ordering.\n",
    "\n",
    "It can be used to solve the class registration problem.\n"
   ]
  },
  {
   "cell_type": "code",
   "execution_count": 11,
   "metadata": {},
   "outputs": [],
   "source": [
    "from collections import deque\n",
    "from typing import List\n",
    "\n",
    "class Solution:\n",
    "    def top_sort(self, n: int, graph: dict) -> List:\n",
    "        sorted_nodes, visited = deque(), [False for _ in range(n)]\n",
    "        for node in graph:\n",
    "            if not visited[node]:\n",
    "                self.dfs(node, sorted_nodes, visited, graph)\n",
    "        return list(sorted_nodes)\n",
    "\n",
    "    def dfs(self, node, sorted_nodes: deque, visited: List, graph):\n",
    "        visited[node] = True\n",
    "        if node in graph:\n",
    "            for child in graph[node]:\n",
    "                if not visited[child]:\n",
    "                    self.dfs(child, sorted_nodes, visited, graph)\n",
    "        # if the node doesn't have any children, append to the beginning of the queue\n",
    "        sorted_nodes.appendleft(node)"
   ]
  },
  {
   "cell_type": "code",
   "execution_count": 17,
   "metadata": {},
   "outputs": [
    {
     "name": "stdout",
     "output_type": "stream",
     "text": [
      "[6, 0, 1, 5, 4, 2, 3]\n",
      "[0, 1]\n",
      "[4, 2, 1, 3]\n"
     ]
    }
   ],
   "source": [
    "\n",
    "s = Solution()\n",
    "test = {0:[1,2], 1:[2,5], 2: [3], 5: [3,4], 6: [1,5]}\n",
    "n = 7\n",
    "print(s.top_sort(n, test))\n",
    "                    \n",
    "test = {0: [1], 1: [0]}\n",
    "n = 2\n",
    "print(s.top_sort(n, test))\n",
    "\n",
    "test = {1: [3], 2: [3], 4: [1,2]}\n",
    "n = 5\n",
    "print(s.top_sort(n, test))"
   ]
  },
  {
   "cell_type": "code",
   "execution_count": null,
   "metadata": {},
   "outputs": [],
   "source": []
  }
 ],
 "metadata": {
  "interpreter": {
   "hash": "4023a4020549a99ab93ca89615a594ad2e0faa709fdb86265b11c339299de1af"
  },
  "kernelspec": {
   "display_name": "Python 3.8.7 ('hbf-E6tUn0h8-py3.8')",
   "language": "python",
   "name": "python3"
  },
  "language_info": {
   "codemirror_mode": {
    "name": "ipython",
    "version": 3
   },
   "file_extension": ".py",
   "mimetype": "text/x-python",
   "name": "python",
   "nbconvert_exporter": "python",
   "pygments_lexer": "ipython3",
   "version": "3.8.7"
  },
  "orig_nbformat": 4
 },
 "nbformat": 4,
 "nbformat_minor": 2
}
