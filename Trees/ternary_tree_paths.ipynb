{
 "cells": [
  {
   "cell_type": "code",
   "execution_count": 1,
   "metadata": {},
   "outputs": [],
   "source": [
    "\n",
    "class Node:\n",
    "    def __init__(self, val, children=[]):\n",
    "        self.val = val\n",
    "        self.children = children"
   ]
  },
  {
   "cell_type": "markdown",
   "metadata": {},
   "source": [
    "Print the paths in trees with 0 or three children."
   ]
  },
  {
   "cell_type": "code",
   "execution_count": 78,
   "metadata": {},
   "outputs": [],
   "source": [
    "node1 = Node(\"1\")\n",
    "node2 = Node(\"2\")\n",
    "node3 = Node(\"4\")\n",
    "node1.children = [node2, node3, Node(\"6\")]\n",
    "node2.children = [Node(\"3\")]\n"
   ]
  },
  {
   "cell_type": "code",
   "execution_count": 80,
   "metadata": {},
   "outputs": [],
   "source": [
    "def ternary_tree_paths(root):\n",
    "    def dfs(root, path, res):\n",
    "        if all(c is None for c in root.children):\n",
    "            # p = path\n",
    "            # p.append(root.val)\n",
    "            res.append('->'.join(path)+'->' + root.val)\n",
    "            return\n",
    "        for child in root.children:\n",
    "            if child:\n",
    "                path.append(root.val)\n",
    "                dfs(child, path, res)\n",
    "                path.pop()\n",
    "    \n",
    "    res = []\n",
    "    if root:\n",
    "        dfs(root, [], res)\n",
    "    return res"
   ]
  },
  {
   "cell_type": "code",
   "execution_count": 81,
   "metadata": {},
   "outputs": [
    {
     "data": {
      "text/plain": "['1->2->3', '1->2->1->4', '1->2->1->1->6']"
     },
     "execution_count": 81,
     "metadata": {},
     "output_type": "execute_result"
    }
   ],
   "source": [
    "ternary_tree_paths(node1)"
   ]
  },
  {
   "cell_type": "code",
   "execution_count": 58,
   "metadata": {},
   "outputs": [],
   "source": [
    "# solution 2\n",
    "def ternary_tree_paths(root):\n",
    "    def dfs(root, res, path):\n",
    "        if all(c is None for c in root.children):  #[1]\n",
    "            res.append(path+root.val)\n",
    "            return\n",
    "        path += str(root.val) + \"->\"\n",
    "        for c in root.children:\n",
    "            dfs(c, res, path)\n",
    "    res = []\n",
    "    dfs(root, res, \"\")\n",
    "    return res\n",
    "\n",
    "# [1] `if not root` no longer do here because if would return the same path three times"
   ]
  },
  {
   "cell_type": "code",
   "execution_count": 59,
   "metadata": {},
   "outputs": [
    {
     "name": "stdout",
     "output_type": "stream",
     "text": [
      "['1->2->3', '1->4', '1->6']\n"
     ]
    }
   ],
   "source": [
    "print(ternary_tree_paths(node1))"
   ]
  },
  {
   "cell_type": "code",
   "execution_count": 69,
   "metadata": {},
   "outputs": [],
   "source": [
    "def dfs(root):\n",
    "    if not root:\n",
    "        print(\"x\")\n",
    "    print(root.val)\n",
    "    for c in root.children:\n",
    "        dfs(c)"
   ]
  },
  {
   "cell_type": "code",
   "execution_count": 79,
   "metadata": {},
   "outputs": [
    {
     "name": "stdout",
     "output_type": "stream",
     "text": [
      "[]\n"
     ]
    }
   ],
   "source": [
    "print(node3.children)"
   ]
  },
  {
   "cell_type": "markdown",
   "metadata": {},
   "source": [
    "# Deep Copy\n",
    "Consider the differences of the two code blocks below"
   ]
  },
  {
   "cell_type": "code",
   "execution_count": 84,
   "metadata": {},
   "outputs": [
    {
     "name": "stdout",
     "output_type": "stream",
     "text": [
      "[[0]]\n",
      "[[0], [0, 1]]\n",
      "[[0], [0, 1], [0, 1, 2]]\n"
     ]
    }
   ],
   "source": [
    "res = []\n",
    "path = []\n",
    "for i in range(3):\n",
    "    path.append(i)\n",
    "    res.append(path[:])\n",
    "    print(res)"
   ]
  },
  {
   "cell_type": "code",
   "execution_count": 85,
   "metadata": {},
   "outputs": [
    {
     "name": "stdout",
     "output_type": "stream",
     "text": [
      "[[0]]\n",
      "[[0, 1], [0, 1]]\n",
      "[[0, 1, 2], [0, 1, 2], [0, 1, 2]]\n"
     ]
    }
   ],
   "source": [
    "res = []\n",
    "path = []\n",
    "for i in range(3):\n",
    "    path.append(i)\n",
    "    res.append(path)\n",
    "    print(res)"
   ]
  },
  {
   "cell_type": "code",
   "execution_count": 89,
   "metadata": {},
   "outputs": [],
   "source": [
    "def letter_combinations_of_phone_number(digits):\n",
    "    # WRITE YOUR BRILLIANT CODE HERE\n",
    "    keyboard = {\"2\": [\"A\", \"B\", \"C\"],\n",
    "                \"3\": [\"D\", \"E\", \"F\"],\n",
    "                \"4\": [\"G\", \"H\", \"I\"],\n",
    "                \"5\": [\"J\", \"K\", \"L\"],\n",
    "                \"6\": [\"M\", \"N\", \"O\"],\n",
    "                \"7\": [\"P\", \"Q\", \"R\", \"S\"],\n",
    "                \"8\": [\"T\", \"U\", \"V\"],\n",
    "                \"9\": [\"W\", \"X\", \"Y\", \"Z\"]}\n",
    "    res = []\n",
    "    def dfs(digits, path):\n",
    "        if len(path) == len(digits):\n",
    "            res.append(\"\".join(path[:]))\n",
    "            return\n",
    "        next_num = digits[len(path)]\n",
    "        for l in keyboard[next_num]:\n",
    "            path.append(l)\n",
    "            dfs(digits, path)\n",
    "            path.pop()\n",
    "    dfs(digits, [])\n",
    "    return res"
   ]
  },
  {
   "cell_type": "code",
   "execution_count": 90,
   "metadata": {},
   "outputs": [
    {
     "data": {
      "text/plain": "['JM', 'JN', 'JO', 'KM', 'KN', 'KO', 'LM', 'LN', 'LO']"
     },
     "execution_count": 90,
     "metadata": {},
     "output_type": "execute_result"
    }
   ],
   "source": [
    "letter_combinations_of_phone_number(\"56\")"
   ]
  },
  {
   "cell_type": "code",
   "execution_count": null,
   "metadata": {},
   "outputs": [],
   "source": []
  }
 ],
 "metadata": {
  "kernelspec": {
   "display_name": "Python 3.8.1 64-bit ('3.8.1': pyenv)",
   "metadata": {
    "interpreter": {
     "hash": "7b3a3da4fd0c9a68cfb7a0261cf18452ae65b217a2b1a75fb9d1433dbee3b706"
    }
   },
   "name": "python3"
  },
  "language_info": {
   "codemirror_mode": {
    "name": "ipython",
    "version": 3
   },
   "file_extension": ".py",
   "mimetype": "text/x-python",
   "name": "python",
   "nbconvert_exporter": "python",
   "pygments_lexer": "ipython3",
   "version": "3.8.1"
  },
  "orig_nbformat": 2
 },
 "nbformat": 4,
 "nbformat_minor": 2
}