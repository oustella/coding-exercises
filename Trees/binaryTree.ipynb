{
 "metadata": {
  "language_info": {
   "codemirror_mode": {
    "name": "ipython",
    "version": 3
   },
   "file_extension": ".py",
   "mimetype": "text/x-python",
   "name": "python",
   "nbconvert_exporter": "python",
   "pygments_lexer": "ipython3",
   "version": "3.8.1-final"
  },
  "orig_nbformat": 2,
  "kernelspec": {
   "name": "poetry-shrp2",
   "display_name": "poetry-shrp2",
   "language": "python"
  }
 },
 "nbformat": 4,
 "nbformat_minor": 2,
 "cells": [
  {
   "cell_type": "code",
   "execution_count": 2,
   "metadata": {},
   "outputs": [],
   "source": [
    "class Node:\n",
    "    def __init__(self, key):\n",
    "        self.left = None\n",
    "        self.right = None\n",
    "        self.val = key\n",
    "\n",
    "root = Node(1)\n",
    "root.left = Node(2)\n",
    "root.right = Node(3)\n",
    "root.left.left= Node(4)\n",
    "root.left.right = Node(5)"
   ]
  },
  {
   "cell_type": "code",
   "execution_count": 2,
   "metadata": {},
   "outputs": [
    {
     "output_type": "stream",
     "name": "stdout",
     "text": [
      "tree height 2\n"
     ]
    }
   ],
   "source": [
    "# tree height or max depth is the number of edges from the deepest leaf to root\n",
    "# recursive method\n",
    "def getTreeHight(root):\n",
    "    # return -1 so that the leaf node starts with height 0\n",
    "    # return 0 if the leaf node counts as height 1\n",
    "    if root is None:\n",
    "        return -1\n",
    "    leftHeight = getTreeHight(root.left)\n",
    "    rightHeight = getTreeHight(root.right)\n",
    "    # use max() so that the longest path is guaranteed\n",
    "    height = max(leftHeight, rightHeight) + 1\n",
    "    return height\n",
    "\n",
    "print(\"tree height\", getTreeHight(root))"
   ]
  },
  {
   "source": [
    "This is an illustration of the recursive method for treeHeight.\n",
    "\n",
    "Source: https://www.geeksforgeeks.org/write-a-c-program-to-find-the-maximum-depth-or-height-of-a-tree/\n",
    "\n",
    "![maxDepth](./maxDepth.png)"
   ],
   "cell_type": "markdown",
   "metadata": {}
  },
  {
   "cell_type": "code",
   "execution_count": 3,
   "metadata": {},
   "outputs": [
    {
     "output_type": "execute_result",
     "data": {
      "text/plain": [
       "2"
      ]
     },
     "metadata": {},
     "execution_count": 3
    }
   ],
   "source": [
    "# Use iterative method to get tree height\n",
    "# traverse every level until the deepest leaf is reached\n",
    "# increment height by 1 when moving down a level\n",
    "from collections import deque\n",
    "def treeHeight(root):\n",
    "    if root is None:\n",
    "        return 0\n",
    "    height = -1\n",
    "    queue = deque([root])\n",
    "    while True:\n",
    "        level_len = len(queue)\n",
    "        if level_len == 0:\n",
    "            return height\n",
    "        height += 1\n",
    "        # level_len should always reflect the number of nodes of that level\n",
    "        # when the len becomes 0 it means both nodes have been read;\n",
    "        # then the control goes back to the outer while loop\n",
    "        while level_len > 0:\n",
    "            root = queue.popleft()\n",
    "            level_len -= 1\n",
    "            if root.left:\n",
    "                queue.append(root.left)\n",
    "            if root.right:\n",
    "                queue.append(root.right)\n",
    "\n",
    "treeHeight(root)\n"
   ]
  },
  {
   "source": [
    "# binary search tree"
   ],
   "cell_type": "markdown",
   "metadata": {}
  },
  {
   "source": [
    "# get largest node"
   ],
   "cell_type": "markdown",
   "metadata": {}
  },
  {
   "cell_type": "code",
   "execution_count": 26,
   "metadata": {},
   "outputs": [],
   "source": [
    "# a binary search tree that is balanced.\n",
    "root = Node(5)\n",
    "root.left = Node(2)\n",
    "root.left.left = Node(1)\n",
    "root.left.right = Node(3)\n",
    "root.right = Node(9)\n",
    "root.right.left = Node(6)\n",
    "root.right.right = Node(12)"
   ]
  },
  {
   "cell_type": "code",
   "execution_count": 9,
   "metadata": {},
   "outputs": [],
   "source": [
    "# get the largest node in a binary search tree\n",
    "# the largest node would be the right mode node\n",
    "def getLargest(root):\n",
    "    if root.right:\n",
    "        return getLargest(root.right)\n",
    "    # the implicit logic is if there is no more root.right \n",
    "    # then current root is the right most node\n",
    "    # therefore returning root value\n",
    "    return root.val\n"
   ]
  },
  {
   "cell_type": "code",
   "execution_count": 127,
   "metadata": {},
   "outputs": [
    {
     "output_type": "stream",
     "name": "stdout",
     "text": [
      "Largest node 12\n"
     ]
    }
   ],
   "source": [
    "print(\"Largest node\", getLargest(root))"
   ]
  },
  {
   "cell_type": "code",
   "execution_count": 27,
   "metadata": {},
   "outputs": [],
   "source": [
    "# get largest node in a binary tree\n",
    "def getLargest(root):\n",
    "    if root is None:\n",
    "        return -float('inf')\n",
    "    left_max = getLargest(root.left)\n",
    "    right_max = getLargest(root.right)\n",
    "    return max(root.val, left_max, right_max)"
   ]
  },
  {
   "cell_type": "code",
   "execution_count": 28,
   "metadata": {},
   "outputs": [
    {
     "output_type": "execute_result",
     "data": {
      "text/plain": [
       "12"
      ]
     },
     "metadata": {},
     "execution_count": 28
    }
   ],
   "source": [
    "getLargest(root)"
   ]
  },
  {
   "source": [
    "## get second largest node"
   ],
   "cell_type": "markdown",
   "metadata": {}
  },
  {
   "cell_type": "code",
   "execution_count": 132,
   "metadata": {},
   "outputs": [],
   "source": [
    "# the second largest in a binary search tree could have two scenarios:\n",
    "# 1. if the largest node has no children, then the second largeset is the parent of largest (right most) node\n",
    "# 2. The largest of the left subtree of the largest (right most) node\n",
    "\n",
    "def getSecondLargest(root):\n",
    "    if root is None:\n",
    "        return \n",
    "    # stop at the parent of the right most node\n",
    "    # if the right most node has no left children\n",
    "    if root.right is not None and root.right.left is None and root.right.right is None:\n",
    "        return root.val\n",
    "    # root.right is None suggests it is reaching the right most\n",
    "    if root.left is not None and root.right is None:\n",
    "        return getLargest(root.left)\n",
    "    # first and foremost only needs to traverse down the right subtree\n",
    "    return getSecondLargest(root.right)\n",
    "    "
   ]
  },
  {
   "cell_type": "code",
   "execution_count": 133,
   "metadata": {},
   "outputs": [
    {
     "output_type": "execute_result",
     "data": {
      "text/plain": [
       "9"
      ]
     },
     "metadata": {},
     "execution_count": 133
    }
   ],
   "source": [
    "getSecondLargest(root)"
   ]
  },
  {
   "source": [
    "## search a target node"
   ],
   "cell_type": "markdown",
   "metadata": {}
  },
  {
   "cell_type": "code",
   "execution_count": 8,
   "metadata": {},
   "outputs": [],
   "source": [
    "# search target node in Binary Search Tree\n",
    "def getNodeInBST(root, target):\n",
    "    if root is None:\n",
    "        return False\n",
    "    if root.val == target:\n",
    "        return True\n",
    "    if target > root.val:\n",
    "        return getNodeInBST(root.right, target)\n",
    "    elif target < root.val:\n",
    "        return getNodeInBST(root.left, target)  "
   ]
  },
  {
   "cell_type": "code",
   "execution_count": 9,
   "metadata": {},
   "outputs": [
    {
     "output_type": "execute_result",
     "data": {
      "text/plain": [
       "True"
      ]
     },
     "metadata": {},
     "execution_count": 9
    }
   ],
   "source": [
    "getNodeInBST(root, 12)"
   ]
  },
  {
   "cell_type": "code",
   "execution_count": 4,
   "metadata": {},
   "outputs": [],
   "source": [
    "# search target in any binary tree\n",
    "def dfs(root, target):\n",
    "    if root is None:\n",
    "        return\n",
    "    if root.val == target:\n",
    "        return root.val\n",
    "    # if one side of the tree returns a value, the other return None\n",
    "    # then using 'or' returns the value. See example below\n",
    "    return dfs(root.left, target) or dfs(root.right, target)\n"
   ]
  },
  {
   "cell_type": "code",
   "execution_count": 5,
   "metadata": {},
   "outputs": [
    {
     "output_type": "execute_result",
     "data": {
      "text/plain": [
       "4"
      ]
     },
     "metadata": {},
     "execution_count": 5
    }
   ],
   "source": [
    "dfs(root, 4)"
   ]
  },
  {
   "cell_type": "code",
   "execution_count": 1,
   "metadata": {},
   "outputs": [
    {
     "output_type": "stream",
     "name": "stdout",
     "text": [
      "4\n"
     ]
    }
   ],
   "source": [
    "a = 4 or None\n",
    "print(a)"
   ]
  },
  {
   "source": [
    "# pretty print"
   ],
   "cell_type": "markdown",
   "metadata": {}
  },
  {
   "cell_type": "code",
   "execution_count": 14,
   "metadata": {},
   "outputs": [],
   "source": [
    "indent_per_level = \"    \"\n",
    "\n",
    "def prettyPrint(node, indentation):\n",
    "    if node is None:\n",
    "        return\n",
    "    current_ident = indentation + indent_per_level\n",
    "    print(current_ident+str(node.val))\n",
    "    prettyPrint(node.left, current_ident)\n",
    "    prettyPrint(node.right, current_ident)\n",
    "    \n"
   ]
  },
  {
   "cell_type": "code",
   "execution_count": 15,
   "metadata": {
    "tags": []
   },
   "outputs": [
    {
     "output_type": "stream",
     "name": "stdout",
     "text": [
      "    1\n        2\n            4\n            5\n        3\n"
     ]
    }
   ],
   "source": [
    "prettyPrint(root, \"\")"
   ]
  },
  {
   "cell_type": "code",
   "execution_count": null,
   "metadata": {},
   "outputs": [],
   "source": []
  },
  {
   "source": [
    "# lowest common ancestor"
   ],
   "cell_type": "markdown",
   "metadata": {}
  },
  {
   "cell_type": "code",
   "execution_count": null,
   "metadata": {},
   "outputs": [],
   "source": [
    "# https://leetcode.com/problems/lowest-common-ancestor-of-a-binary-tree/\n",
    "def lowestCommonAncestor(root, p, q):\n",
    "    if root is None:\n",
    "        return None\n",
    "    # because the traversal goes from top to bottom\n",
    "    # the first time p or q is encountered, that node is higher\n",
    "    if root == p or root == q:\n",
    "        return root\n",
    "    \n",
    "    left_lca = self.lowestCommonAncestor(root.left, p, q)\n",
    "    right_lca = self.lowestCommonAncestor(root.right, p, q)\n",
    "    \n",
    "    if left_lca and right_lca:\n",
    "        return root\n",
    "    \n",
    "    return left_lca if left_lca else right_lca"
   ]
  },
  {
   "source": [
    "# sum of left leaves"
   ],
   "cell_type": "markdown",
   "metadata": {}
  },
  {
   "cell_type": "code",
   "execution_count": 116,
   "metadata": {},
   "outputs": [],
   "source": [
    "root = Node(3)\n",
    "root.left = Node(9)\n",
    "root.left.left = Node(15)\n",
    "# root.left.right = Node(7)\n",
    "root.right = Node(20)\n",
    "root.right.left = Node(17)\n"
   ]
  },
  {
   "cell_type": "code",
   "execution_count": 120,
   "metadata": {},
   "outputs": [
    {
     "output_type": "execute_result",
     "data": {
      "text/plain": [
       "32"
      ]
     },
     "metadata": {},
     "execution_count": 120
    }
   ],
   "source": [
    "# solution 1\n",
    "def sumLeftLeaves(root):\n",
    "    if root is None:\n",
    "        return 0\n",
    "    res = 0\n",
    "\n",
    "    # base case, also for the root node\n",
    "    # if there is a left node, and the left node doesn't have left/right children, ie is a leaf node\n",
    "    if root.left and root.left.left is None and root.left.right is None:\n",
    "        res += root.left.val  # important to use accumulation rather than 'return'\n",
    "    \n",
    "    res += sumLeftLeaves(root.left) + sumLeftLeaves(root.right)\n",
    "\n",
    "    return res\n",
    "\n",
    "sumLeftLeaves(root)"
   ]
  },
  {
   "cell_type": "code",
   "execution_count": 122,
   "metadata": {},
   "outputs": [
    {
     "output_type": "stream",
     "name": "stdout",
     "text": [
      "15\n17\n"
     ]
    },
    {
     "output_type": "execute_result",
     "data": {
      "text/plain": [
       "32"
      ]
     },
     "metadata": {},
     "execution_count": 122
    }
   ],
   "source": [
    "# # wrong solution\n",
    "# def sumLeftLeaves(root):\n",
    "#     if root is None:\n",
    "#         return 0\n",
    "#     if root.left:\n",
    "#         if root.left.left is None and root.left.right is None:\n",
    "#             return root.left.val  # [1]\n",
    "  \n",
    "#     return sumLeftLeaves(root.left) + sumLeftLeaves(root.right)\n",
    "\n",
    "# sumLeftLeaves(root)\n",
    "\n",
    "# # [1] this will terminate the whole function when the original root has a left child that's also\n",
    "# # a leaf. The next line 'return sum(root.left) + sum(root.right) will not be executed.\n",
    "# use return carefully in base cases of recursive codes. It has to apply to an end scenario\n",
    "# otherwise return a function in the middle of the codes at least allows the remaing codes be executed."
   ]
  },
  {
   "cell_type": "code",
   "execution_count": 121,
   "metadata": {},
   "outputs": [
    {
     "output_type": "execute_result",
     "data": {
      "text/plain": [
       "32"
      ]
     },
     "metadata": {},
     "execution_count": 121
    }
   ],
   "source": [
    "# solution 2\n",
    "def solution(root):\n",
    "    return sum_left_leaves(root, root)\n",
    "\n",
    "def sum_left_leaves(node, parent):\n",
    "\n",
    "    if node is None:\n",
    "        return 0\n",
    "\n",
    "    is_leaf = (node.left == None and node.right == None)\n",
    "\n",
    "    if is_leaf:\n",
    "        if parent.left == node: # left leaf node\n",
    "            return node.val\n",
    "        else:\n",
    "            return 0\n",
    "\n",
    "    return sum_left_leaves(node.left, node) + sum_left_leaves(node.right, node)\n",
    "\n",
    "solution(root)"
   ]
  },
  {
   "cell_type": "code",
   "execution_count": 123,
   "metadata": {},
   "outputs": [
    {
     "output_type": "stream",
     "name": "stdout",
     "text": [
      "15\n17\n"
     ]
    }
   ],
   "source": [
    "def printLeftLeaves(root):\n",
    "    if root is None:\n",
    "        return\n",
    "    if root.left: \n",
    "        if root.left.left is None and root.left.right is None:\n",
    "            print(root.left.val)\n",
    "            \n",
    "\n",
    "    printLeftLeaves(root.left)\n",
    "    printLeftLeaves(root.right)\n",
    "printLeftLeaves(root)"
   ]
  },
  {
   "source": [
    "# Valid Binary Search Tree\n",
    "\n",
    "Return True if a given binary tree is a binary search tree. Otherwise return False.\n",
    "\n",
    "The scenario to look out for is a right node on the left subtree (it still has to be smaller than the root node. See example 3 below), or a left node on the right subtree."
   ],
   "cell_type": "markdown",
   "metadata": {}
  },
  {
   "cell_type": "code",
   "execution_count": 13,
   "metadata": {},
   "outputs": [],
   "source": [
    "def valid_bst(root):\n",
    "    def dfs(node, min_val, max_val):\n",
    "        if not node:  # reached the leaf node without triggering a return False\n",
    "            return True\n",
    "        if node.val < min_val or node.val > max_val:  # contradicting the defintion of BST\n",
    "            return False\n",
    "        return dfs(node.left, min_val, node.val) and dfs(node.right, node.val, max_val)  # [1]\n",
    "    return dfs(root, -float('inf'), float('inf'))\n",
    "# [1] both the left and right nodes have to return True for a valid bst. \n",
    "# when it's a left node, the max_value it can assume is its parent's.\n",
    "# for a right node, the min_val is its parent's.\n",
    "# Because it's recursion, the min_val and max_val inherits what its parent call has\n",
    "# this is especially important for a right node in a left subtree or vice versa. "
   ]
  },
  {
   "cell_type": "code",
   "execution_count": 14,
   "metadata": {},
   "outputs": [
    {
     "output_type": "execute_result",
     "data": {
      "text/plain": [
       "False"
      ]
     },
     "metadata": {},
     "execution_count": 14
    }
   ],
   "source": [
    "root = Node(1)\n",
    "root.left = Node(2)\n",
    "root.right = Node(3)\n",
    "root.left.left= Node(4)\n",
    "root.left.right = Node(5)\n",
    "\n",
    "valid_bst(root)"
   ]
  },
  {
   "cell_type": "code",
   "execution_count": 15,
   "metadata": {},
   "outputs": [
    {
     "output_type": "execute_result",
     "data": {
      "text/plain": [
       "True"
      ]
     },
     "metadata": {},
     "execution_count": 15
    }
   ],
   "source": [
    "# a binary search tree that is balanced.\n",
    "root = Node(5)\n",
    "root.left = Node(2)\n",
    "root.left.left = Node(1)\n",
    "root.left.right = Node(3)\n",
    "root.right = Node(9)\n",
    "root.right.left = Node(6)\n",
    "root.right.right = Node(12)\n",
    "valid_bst(root)"
   ]
  },
  {
   "cell_type": "code",
   "execution_count": 17,
   "metadata": {},
   "outputs": [
    {
     "output_type": "execute_result",
     "data": {
      "text/plain": [
       "False"
      ]
     },
     "metadata": {},
     "execution_count": 17
    }
   ],
   "source": [
    "# example 3\n",
    "root = Node(5)\n",
    "root.left = Node(4)\n",
    "root.left.left = Node(3)\n",
    "root.left.right = Node(6)  # locally fine but not when compared to the root node.\n",
    "root.right = Node(9)\n",
    "valid_bst(root)"
   ]
  },
  {
   "cell_type": "code",
   "execution_count": null,
   "metadata": {},
   "outputs": [],
   "source": []
  }
 ]
}