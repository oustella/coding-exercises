{
 "cells": [
  {
   "cell_type": "code",
   "execution_count": 43,
   "metadata": {},
   "outputs": [],
   "source": [
    "class Node:\n",
    "    def __init__(self, key):\n",
    "        self.left = None\n",
    "        self.right = None\n",
    "        self.val = key\n",
    "\n",
    "root = Node(1)\n",
    "root.left = Node(2)\n",
    "root.right = Node(3)\n",
    "root.left.left= Node(4)\n",
    "root.left.right = Node(5)"
   ]
  },
  {
   "cell_type": "code",
   "execution_count": 4,
   "metadata": {},
   "outputs": [
    {
     "name": "stdout",
     "output_type": "stream",
     "text": [
      "3\n"
     ]
    }
   ],
   "source": [
    "def getTreeHeight(root):\n",
    "    if root is None:\n",
    "        return 0\n",
    "    leftH = getTreeHeight(root.left)\n",
    "    rightH = getTreeHeight(root.right)\n",
    "    height = max(leftH, rightH) + 1\n",
    "    return height\n",
    "\n",
    "print(getTreeHeight(root))"
   ]
  },
  {
   "cell_type": "code",
   "execution_count": 2,
   "metadata": {},
   "outputs": [
    {
     "name": "stdout",
     "output_type": "stream",
     "text": [
      "tree height 2\n"
     ]
    }
   ],
   "source": [
    "# tree height or max depth is the number of edges from the deepest leaf to root\n",
    "# recursive method goes directly to the leaf nodes and come back up\n",
    "def getTreeHight(root):\n",
    "    # return -1 so that the leaf node starts with height 0\n",
    "    # return 0 if counting levels of nodes as height\n",
    "    if root is None:\n",
    "        return -1\n",
    "    leftHeight = getTreeHight(root.left)\n",
    "    rightHeight = getTreeHight(root.right)\n",
    "    # use max() so that the longest path is guaranteed\n",
    "    height = max(leftHeight, rightHeight) + 1\n",
    "    return height\n",
    "\n",
    "print(\"tree height\", getTreeHight(root))"
   ]
  },
  {
   "cell_type": "markdown",
   "metadata": {},
   "source": [
    "This is an illustration of the recursive method for treeHeight.\n",
    "\n",
    "Source: https://www.geeksforgeeks.org/write-a-c-program-to-find-the-maximum-depth-or-height-of-a-tree/\n",
    "\n",
    "![maxDepth](./maxDepth.png)"
   ]
  },
  {
   "cell_type": "code",
   "execution_count": 3,
   "metadata": {},
   "outputs": [
    {
     "data": {
      "text/plain": [
       "2"
      ]
     },
     "execution_count": 3,
     "metadata": {},
     "output_type": "execute_result"
    }
   ],
   "source": [
    "# Use iterative method to get tree height\n",
    "# traverse every level until the deepest leaf is reached\n",
    "# increment height by 1 when moving down a level\n",
    "from collections import deque\n",
    "def treeHeight(root):\n",
    "    if root is None:\n",
    "        return 0\n",
    "    height = -1\n",
    "    queue = deque([root])\n",
    "    while True:\n",
    "        level_len = len(queue)\n",
    "        if level_len == 0:\n",
    "            return height\n",
    "        height += 1\n",
    "        # level_len should always reflect the number of nodes of that level\n",
    "        # when the len becomes 0 it means both sides of nodes have been read;\n",
    "        # then the control goes back to the outer while loop\n",
    "        while level_len > 0:\n",
    "            root = queue.popleft()\n",
    "            level_len -= 1\n",
    "            if root.left:\n",
    "                queue.append(root.left)\n",
    "            if root.right:\n",
    "                queue.append(root.right)\n",
    "\n",
    "treeHeight(root)\n"
   ]
  },
  {
   "cell_type": "code",
   "execution_count": null,
   "metadata": {},
   "outputs": [
    {
     "name": "stdout",
     "output_type": "stream",
     "text": [
      "3\n"
     ]
    }
   ],
   "source": [
    "from collections import deque\n",
    "# This method is an improvement of the iterative approach\n",
    "def getTreeHeight2(root):\n",
    "    h = 0\n",
    "    queue = deque([root])\n",
    "    while queue:\n",
    "        for _ in range(len(queue)):\n",
    "            curr = queue.popleft()\n",
    "            if curr.left:\n",
    "                queue.append(curr.left)\n",
    "            if curr.right:\n",
    "                queue.append(curr.right)\n",
    "        h += 1\n",
    "    return h\n",
    "\n",
    "print(getTreeHeight2(root))"
   ]
  },
  {
   "cell_type": "markdown",
   "metadata": {},
   "source": [
    "# binary search tree\n",
    "\n",
    "A *binary tree* has nodes that can have 0, 1, 2 children. \n",
    "A *binary search tree* is an ordered binary tree in that the left leaf of a node is smaller and the right left is larger than the parent node. \n",
    "There is no repetitive values. All subtrees are also BST. See below for #Valid BST"
   ]
  },
  {
   "cell_type": "markdown",
   "metadata": {},
   "source": [
    "# get largest node"
   ]
  },
  {
   "cell_type": "code",
   "execution_count": 3,
   "metadata": {},
   "outputs": [],
   "source": [
    "# a binary search tree that is balanced.\n",
    "root = Node(5)\n",
    "root.left = Node(2)\n",
    "root.left.left = Node(1)\n",
    "root.left.right = Node(3)\n",
    "root.right = Node(9)\n",
    "root.right.left = Node(6)\n",
    "root.right.right = Node(12)"
   ]
  },
  {
   "cell_type": "code",
   "execution_count": 14,
   "metadata": {},
   "outputs": [],
   "source": [
    "# get the largest node in a binary search tree\n",
    "# the largest node would be the right mode node\n",
    "def getLargest(root):\n",
    "    if root.right:\n",
    "        return getLargest(root.right)\n",
    "    # the implicit logic is if there is no more root.right \n",
    "    # then current root is the right most node\n",
    "    # therefore returning root value\n",
    "    return root.val\n"
   ]
  },
  {
   "cell_type": "code",
   "execution_count": 15,
   "metadata": {},
   "outputs": [],
   "source": [
    "# improved readability\n",
    "def getLargestBST(node):\n",
    "    if node.right is None:\n",
    "        return node.val\n",
    "    return getLargestBST(node.right)  "
   ]
  },
  {
   "cell_type": "code",
   "execution_count": 16,
   "metadata": {},
   "outputs": [
    {
     "name": "stdout",
     "output_type": "stream",
     "text": [
      "Largest node 12\n",
      "Largest node 12\n"
     ]
    }
   ],
   "source": [
    "print(\"Largest node\", getLargest(root))\n",
    "print(\"Largest node\", getLargestBST(root))"
   ]
  },
  {
   "cell_type": "code",
   "execution_count": 27,
   "metadata": {},
   "outputs": [],
   "source": [
    "# get largest node in a binary tree\n",
    "def getLargest(root):\n",
    "    if root is None:\n",
    "        return -float('inf')\n",
    "    left_max = getLargest(root.left)\n",
    "    right_max = getLargest(root.right)\n",
    "    return max(root.val, left_max, right_max)"
   ]
  },
  {
   "cell_type": "code",
   "execution_count": 20,
   "metadata": {},
   "outputs": [],
   "source": [
    "# practice round\n",
    "def getLargestBinaryTree(node):\n",
    "    if node is None:\n",
    "        return -float(\"inf\")\n",
    "    leftLargest = getLargestBinaryTree(node.left)\n",
    "    rightLargest = getLargestBinaryTree(node.right)\n",
    "    return max(node.val, leftLargest, rightLargest)\n"
   ]
  },
  {
   "cell_type": "code",
   "execution_count": 21,
   "metadata": {},
   "outputs": [
    {
     "name": "stdout",
     "output_type": "stream",
     "text": [
      "12\n",
      "12\n"
     ]
    }
   ],
   "source": [
    "print(getLargest(root))\n",
    "print(getLargestBinaryTree(root))\n"
   ]
  },
  {
   "cell_type": "markdown",
   "metadata": {},
   "source": [
    "## get second largest node"
   ]
  },
  {
   "cell_type": "code",
   "execution_count": 132,
   "metadata": {},
   "outputs": [],
   "source": [
    "# the second largest in a binary search tree could have two scenarios:\n",
    "# 1. if the largest node has no children, then the second largeset is the parent of largest (right most) node\n",
    "# 2. The largest of the left subtree of the largest (right most) node\n",
    "\n",
    "def getSecondLargest(root):\n",
    "    if root is None:\n",
    "        return \n",
    "    # stop at the parent of the right most node\n",
    "    # if the right most node has no left children\n",
    "    if root.right is not None and root.right.left is None and root.right.right is None:\n",
    "        return root.val\n",
    "    # root.right is None suggests it is reaching the right most\n",
    "    if root.left is not None and root.right is None:\n",
    "        return getLargest(root.left)\n",
    "    # first and foremost only needs to traverse down the right subtree\n",
    "    return getSecondLargest(root.right)\n",
    "    "
   ]
  },
  {
   "cell_type": "code",
   "execution_count": 133,
   "metadata": {},
   "outputs": [
    {
     "data": {
      "text/plain": [
       "9"
      ]
     },
     "execution_count": 133,
     "metadata": {},
     "output_type": "execute_result"
    }
   ],
   "source": [
    "getSecondLargest(root)"
   ]
  },
  {
   "cell_type": "code",
   "execution_count": 23,
   "metadata": {},
   "outputs": [
    {
     "name": "stdout",
     "output_type": "stream",
     "text": [
      "9\n"
     ]
    }
   ],
   "source": [
    "# practice round\n",
    "def getSecondLargestBST(node):\n",
    "    if node is None:\n",
    "        return\n",
    "    if node.right is None and node.left is not None:\n",
    "        return getLargestNode(node.left)\n",
    "    if node.right is not None and node.right.left is None and node.right.right is None:\n",
    "        return node.val\n",
    "    return getSecondLargestBST(node.right)\n",
    "\n",
    "    def getLargestNode(node):\n",
    "        if node.right is None:\n",
    "            return node.val\n",
    "        return getLargest(node.right)\n",
    "\n",
    "print(getSecondLargestBST(root))\n",
    "\n"
   ]
  },
  {
   "cell_type": "markdown",
   "metadata": {},
   "source": [
    "## search a target node"
   ]
  },
  {
   "cell_type": "code",
   "execution_count": 8,
   "metadata": {},
   "outputs": [],
   "source": [
    "# search target node in Binary Search Tree\n",
    "def getNodeInBST(root, target):\n",
    "    if root is None:\n",
    "        return False\n",
    "    if root.val == target:\n",
    "        return True\n",
    "    if target > root.val:\n",
    "        return getNodeInBST(root.right, target)\n",
    "    elif target < root.val:\n",
    "        return getNodeInBST(root.left, target)  "
   ]
  },
  {
   "cell_type": "code",
   "execution_count": 9,
   "metadata": {},
   "outputs": [
    {
     "data": {
      "text/plain": [
       "True"
      ]
     },
     "execution_count": 9,
     "metadata": {},
     "output_type": "execute_result"
    }
   ],
   "source": [
    "getNodeInBST(root, 12)"
   ]
  },
  {
   "cell_type": "code",
   "execution_count": 29,
   "metadata": {},
   "outputs": [
    {
     "name": "stdout",
     "output_type": "stream",
     "text": [
      "True\n",
      "True\n"
     ]
    }
   ],
   "source": [
    "# practice round\n",
    "def checkNodeExistsBST(root, target):\n",
    "    if root is None:\n",
    "        return False\n",
    "    if root.val == target:\n",
    "        return True\n",
    "    if target < root.val:\n",
    "        return checkNodeExistsBST(root.left, target)\n",
    "    if target > root.val:\n",
    "        return checkNodeExistsBST(root.right, target)\n",
    "print(checkNodeExistsBST(root, 12))\n",
    "\n",
    "def checkNodeExistsBinaryTree(root, target):\n",
    "    def dfs(root):\n",
    "        if root is None:\n",
    "            return False\n",
    "        if root.val == target:\n",
    "            return True\n",
    "        return dfs(root.left) or dfs(root.right)\n",
    "    return dfs(root)\n",
    "\n",
    "print(checkNodeExistsBinaryTree(root, 12))"
   ]
  },
  {
   "cell_type": "code",
   "execution_count": 25,
   "metadata": {},
   "outputs": [],
   "source": [
    "# search target in any binary tree\n",
    "def dfs(root, target):\n",
    "    if root is None:\n",
    "        return\n",
    "    if root.val == target:\n",
    "        return root.val\n",
    "    # if one side of the tree returns a value, the other return None\n",
    "    # then using 'or' returns the value. See example below\n",
    "    return dfs(root.left, target) or dfs(root.right, target)\n"
   ]
  },
  {
   "cell_type": "code",
   "execution_count": 28,
   "metadata": {},
   "outputs": [
    {
     "data": {
      "text/plain": [
       "False"
      ]
     },
     "execution_count": 28,
     "metadata": {},
     "output_type": "execute_result"
    }
   ],
   "source": [
    "True and False"
   ]
  },
  {
   "cell_type": "code",
   "execution_count": 5,
   "metadata": {},
   "outputs": [
    {
     "data": {
      "text/plain": [
       "4"
      ]
     },
     "execution_count": 5,
     "metadata": {},
     "output_type": "execute_result"
    }
   ],
   "source": [
    "dfs(root, 4)"
   ]
  },
  {
   "cell_type": "code",
   "execution_count": 1,
   "metadata": {},
   "outputs": [
    {
     "name": "stdout",
     "output_type": "stream",
     "text": [
      "4\n"
     ]
    }
   ],
   "source": [
    "a = 4 or None\n",
    "print(a)"
   ]
  },
  {
   "cell_type": "markdown",
   "metadata": {},
   "source": [
    "# pretty print"
   ]
  },
  {
   "cell_type": "code",
   "execution_count": 5,
   "metadata": {},
   "outputs": [],
   "source": [
    "indent_per_level = \"    \"\n",
    "\n",
    "def prettyPrint(node, indentation):\n",
    "    if node is None:\n",
    "        return\n",
    "    current_ident = indentation + indent_per_level\n",
    "    print(current_ident+str(node.val))\n",
    "    prettyPrint(node.left, current_ident)\n",
    "    prettyPrint(node.right, current_ident)\n",
    "    \n"
   ]
  },
  {
   "cell_type": "code",
   "execution_count": 6,
   "metadata": {
    "tags": []
   },
   "outputs": [
    {
     "name": "stdout",
     "output_type": "stream",
     "text": [
      "    5\n",
      "        2\n",
      "            1\n",
      "            3\n",
      "        9\n",
      "            6\n",
      "            12\n"
     ]
    }
   ],
   "source": [
    "prettyPrint(root, \"\")"
   ]
  },
  {
   "cell_type": "code",
   "execution_count": null,
   "metadata": {},
   "outputs": [],
   "source": []
  },
  {
   "cell_type": "markdown",
   "metadata": {},
   "source": [
    "# lowest common ancestor\n",
    "LCA is the lowest node that sits on the paths of getting to two nodes p, q.\n",
    "It is guaranteed that p and q are both in the tree.\n",
    "There are only two scenarios for a node to be an LCA. \n",
    "1. If q is a child of p, then p is the LCA for p and q. Vice versa. This happens when p and q are on the same side of the tree.\n",
    "2. If p and q are on different sides of the tree, then the parent node is the LCA.\n",
    "The key insight is realizing the problem becomes a matter of locating p and q in the tree.\n",
    "So finding the LCA is really just finding p or q. If we first find p on the left and did not find q on the right, we know q must be also on the left lower than p, so p is the LCA for both p and q.\n"
   ]
  },
  {
   "cell_type": "code",
   "execution_count": 20,
   "metadata": {},
   "outputs": [],
   "source": [
    "# https://leetcode.com/problems/lowest-common-ancestor-of-a-binary-tree/\n",
    "def lowestCommonAncestor(root, p, q):\n",
    "    if root is None:\n",
    "        return\n",
    "    # because the traversal goes from top to bottom\n",
    "    # the first time p or q is encountered, that node is higher\n",
    "    if root == p or root == q:\n",
    "        return root\n",
    "    \n",
    "    left = lowestCommonAncestor(root.left, p, q)\n",
    "    right = lowestCommonAncestor(root.right, p, q)\n",
    "    \n",
    "    if left and right:  #[1]\n",
    "        return root\n",
    "    \n",
    "    return left if left else right  #[2]\n",
    "    # if no lca is found ie p or q is not in the tree\n",
    "    # this line can also be removed\n",
    "    return None\n",
    "\n",
    "# [1] scenario 2: return root because from root the function goes left and right and p and q were found.\n",
    "# [2] scenario 1: p and q are the same side of the tree and one sits higher than another. "
   ]
  },
  {
   "cell_type": "code",
   "execution_count": 14,
   "metadata": {},
   "outputs": [
    {
     "name": "stdout",
     "output_type": "stream",
     "text": [
      "5\n"
     ]
    }
   ],
   "source": [
    "# practice round\n",
    "def findLCA(root, p, q):\n",
    "    if root is None:\n",
    "        return None\n",
    "    if root.val == p or root.val == q:\n",
    "        return root\n",
    "    left = findLCA(root.left, p, q)\n",
    "    right = findLCA(root.right, p, q)\n",
    "    if left and right:\n",
    "        return root\n",
    "    return left if left else right\n",
    "\n",
    "print(findLCA(root, 1, 9).val)"
   ]
  },
  {
   "cell_type": "code",
   "execution_count": 7,
   "metadata": {},
   "outputs": [
    {
     "name": "stdout",
     "output_type": "stream",
     "text": [
      "    5\n",
      "        2\n",
      "            1\n",
      "            3\n",
      "        9\n",
      "            6\n",
      "            12\n"
     ]
    }
   ],
   "source": [
    "prettyPrint(root, \"\")"
   ]
  },
  {
   "cell_type": "code",
   "execution_count": 21,
   "metadata": {},
   "outputs": [
    {
     "name": "stdout",
     "output_type": "stream",
     "text": [
      "None\n"
     ]
    }
   ],
   "source": [
    "print(lowestCommonAncestor(root, 10,5))"
   ]
  },
  {
   "cell_type": "markdown",
   "metadata": {},
   "source": [
    "# sum of left leaves"
   ]
  },
  {
   "cell_type": "code",
   "execution_count": 18,
   "metadata": {},
   "outputs": [
    {
     "name": "stdout",
     "output_type": "stream",
     "text": [
      "    3\n",
      "        9\n",
      "        20\n",
      "            17\n"
     ]
    }
   ],
   "source": [
    "root = Node(3)\n",
    "root.left = Node(9)\n",
    "# root.left.left = Node(15)\n",
    "# root.left.right = Node(7)\n",
    "root.right = Node(20)\n",
    "root.right.left = Node(17)\n",
    "\n",
    "prettyPrint(root, \"\")\n"
   ]
  },
  {
   "cell_type": "code",
   "execution_count": 37,
   "metadata": {},
   "outputs": [
    {
     "data": {
      "text/plain": [
       "26"
      ]
     },
     "execution_count": 37,
     "metadata": {},
     "output_type": "execute_result"
    }
   ],
   "source": [
    "# solution 1\n",
    "def sumLeftLeaves(root):\n",
    "    if root is None:\n",
    "        return 0\n",
    "    res = 0\n",
    "\n",
    "    # base case, also for the root node\n",
    "    # if there is a left node, and the left node doesn't have left/right children, ie is a leaf node\n",
    "    if root.left and root.left.left is None and root.left.right is None:\n",
    "        res += root.left.val  # important to use accumulation rather than 'return'\n",
    "    \n",
    "    res += sumLeftLeaves(root.left) + sumLeftLeaves(root.right)\n",
    "\n",
    "    return res\n",
    "\n",
    "sumLeftLeaves(root)"
   ]
  },
  {
   "cell_type": "code",
   "execution_count": 39,
   "metadata": {},
   "outputs": [
    {
     "data": {
      "text/plain": [
       "9"
      ]
     },
     "execution_count": 39,
     "metadata": {},
     "output_type": "execute_result"
    }
   ],
   "source": [
    "# wrong solution\n",
    "def sumLeftLeaves(root):\n",
    "    if root is None:\n",
    "        return 0\n",
    "    if root.left:\n",
    "        if root.left.left is None and root.left.right is None:\n",
    "            return root.left.val  # [1]\n",
    "  \n",
    "    return sumLeftLeaves(root.left) + sumLeftLeaves(root.right)\n",
    "\n",
    "sumLeftLeaves(root)\n",
    "\n",
    "# [1] this will terminate the whole function when the original root has a left child that's also\n",
    "# a leaf. The next line 'return sum(root.left) + sum(root.right) will not be executed, which means left leaves on the right won't get counted.\n",
    "# use return carefully in base cases of recursive codes. It has to apply to an end scenario\n",
    "# otherwise return a function in the middle of the codes at least allows the remaing codes be executed."
   ]
  },
  {
   "cell_type": "code",
   "execution_count": 42,
   "metadata": {},
   "outputs": [
    {
     "data": {
      "text/plain": [
       "17"
      ]
     },
     "execution_count": 42,
     "metadata": {},
     "output_type": "execute_result"
    }
   ],
   "source": [
    "# corrected solution\n",
    "def sumLeftLeaves(root):\n",
    "    def dfs(root):\n",
    "        if root is None:\n",
    "            return 0\n",
    "        if root.left and root.left.left is None and root.left.right is None:\n",
    "            return root.left.val  # [1]\n",
    "        else:\n",
    "            return 0\n",
    "    return dfs(root.left) + dfs(root.right)\n",
    "\n",
    "sumLeftLeaves(root)\n",
    "\n",
    "# [1] this will terminate the whole function when the original root has a left child that's also\n",
    "# a leaf. The next line 'return sum(root.left) + sum(root.right) will not be executed, which means left leaves on the right won't get counted.\n",
    "# use return carefully in base cases of recursive codes. It has to apply to an end scenario\n",
    "# otherwise return a function in the middle of the codes at least allows the remaing codes be executed."
   ]
  },
  {
   "cell_type": "code",
   "execution_count": 23,
   "metadata": {},
   "outputs": [
    {
     "data": {
      "text/plain": [
       "26"
      ]
     },
     "execution_count": 23,
     "metadata": {},
     "output_type": "execute_result"
    }
   ],
   "source": [
    "# solution 2\n",
    "def solution(root):\n",
    "    return sum_left_leaves(root, root)\n",
    "\n",
    "def sum_left_leaves(node, parent):\n",
    "\n",
    "    if node is None:\n",
    "        return 0\n",
    "\n",
    "    is_leaf = (node.left == None and node.right == None)\n",
    "\n",
    "    if is_leaf:\n",
    "        if parent.left == node: # left leaf node\n",
    "            return node.val\n",
    "        else:\n",
    "            return 0\n",
    "\n",
    "    return sum_left_leaves(node.left, node) + sum_left_leaves(node.right, node)\n",
    "\n",
    "solution(root)"
   ]
  },
  {
   "cell_type": "code",
   "execution_count": 123,
   "metadata": {},
   "outputs": [
    {
     "name": "stdout",
     "output_type": "stream",
     "text": [
      "15\n",
      "17\n"
     ]
    }
   ],
   "source": [
    "def printLeftLeaves(root):\n",
    "    if root is None:\n",
    "        return\n",
    "    if root.left: \n",
    "        if root.left.left is None and root.left.right is None:\n",
    "            print(root.left.val)\n",
    "            \n",
    "\n",
    "    printLeftLeaves(root.left)\n",
    "    printLeftLeaves(root.right)\n",
    "printLeftLeaves(root)"
   ]
  },
  {
   "cell_type": "markdown",
   "metadata": {},
   "source": [
    "# Valid Binary Search Tree\n",
    "\n",
    "Return True if a given binary tree is a binary search tree. Otherwise return False.\n",
    "\n",
    "The scenario to look out for is a right node on the left subtree (it still has to be smaller than the root node. See example 3 below), or a left node on the right subtree.\n",
    "\n",
    "source: algo.monster"
   ]
  },
  {
   "cell_type": "code",
   "execution_count": 8,
   "metadata": {},
   "outputs": [],
   "source": [
    "def valid_bst(root):\n",
    "    def dfs(node, min_val, max_val):\n",
    "        if not node:  # reached the leaf node without triggering a return False\n",
    "            return True\n",
    "        if node.val <= min_val or node.val >= max_val:  # contradicting the defintion of BST\n",
    "            return False\n",
    "        return dfs(node.left, min_val, node.val) and dfs(node.right, node.val, max_val)  # [1]\n",
    "    return dfs(root, -float('inf'), float('inf'))\n",
    "# [1] both the left and right nodes have to return True for a valid bst. \n",
    "# when it's a left node, the max_value it can assume is its parent's.\n",
    "# for a right node, the min_val is its parent's.\n",
    "# Because it's recursion, the min_val and max_val inherits what its parent call has\n",
    "# this is especially important for a right node in a left subtree or vice versa. "
   ]
  },
  {
   "cell_type": "code",
   "execution_count": null,
   "metadata": {},
   "outputs": [],
   "source": [
    "# practice round\n",
    "def isValidBST(root):\n",
    "    def dfs(node, minVal, maxVal):\n",
    "        if node is None:\n",
    "            return True\n",
    "        if node.val < minVal or node.val > maxVal:\n",
    "            return False\n",
    "        return dfs(node.left, minVal, node.val) and dfs(node.right, node.val, maxVal)\n",
    "    return dfs(root, -float(\"inf\"), float(\"inf\"))"
   ]
  },
  {
   "cell_type": "code",
   "execution_count": 11,
   "metadata": {},
   "outputs": [
    {
     "name": "stdout",
     "output_type": "stream",
     "text": [
      "False\n",
      "False\n"
     ]
    }
   ],
   "source": [
    "root = Node(1)\n",
    "root.left = Node(2)\n",
    "root.right = Node(3)\n",
    "root.left.left= Node(4)\n",
    "root.left.right = Node(5)\n",
    "\n",
    "print(valid_bst(root))\n",
    "print(isValidBST(root))\n"
   ]
  },
  {
   "cell_type": "code",
   "execution_count": 12,
   "metadata": {},
   "outputs": [
    {
     "name": "stdout",
     "output_type": "stream",
     "text": [
      "True\n",
      "True\n"
     ]
    }
   ],
   "source": [
    "# a binary search tree that is balanced.\n",
    "root = Node(5)\n",
    "root.left = Node(2)\n",
    "root.left.left = Node(1)\n",
    "root.left.right = Node(3)\n",
    "root.right = Node(9)\n",
    "root.right.left = Node(6)\n",
    "root.right.right = Node(12)\n",
    "\n",
    "print(valid_bst(root))\n",
    "print(isValidBST(root))"
   ]
  },
  {
   "cell_type": "code",
   "execution_count": 35,
   "metadata": {},
   "outputs": [
    {
     "data": {
      "text/plain": [
       "False"
      ]
     },
     "execution_count": 35,
     "metadata": {},
     "output_type": "execute_result"
    }
   ],
   "source": [
    "# example 3\n",
    "root = Node(5)\n",
    "root.left = Node(4)\n",
    "root.left.left = Node(3)\n",
    "root.left.right = Node(6)  # locally fine but not when compared to the root node.\n",
    "root.right = Node(9)\n",
    "valid_bst(root)"
   ]
  },
  {
   "cell_type": "markdown",
   "metadata": {},
   "source": [
    "# print binary trees as string"
   ]
  },
  {
   "cell_type": "code",
   "execution_count": 4,
   "metadata": {},
   "outputs": [],
   "source": [
    "root = Node(50)\n",
    "root.left = Node(4)\n",
    "root.left.left = Node(3)\n",
    "root.left.right = Node(6)  # locally fine but not when compared to the root node.\n",
    "root.right = Node(9)"
   ]
  },
  {
   "cell_type": "code",
   "execution_count": 8,
   "metadata": {},
   "outputs": [
    {
     "data": {
      "text/plain": [
       "' 50 4 3// 6// 9//'"
      ]
     },
     "execution_count": 8,
     "metadata": {},
     "output_type": "execute_result"
    }
   ],
   "source": [
    "# same as below but redundant\n",
    "def serialize(root):\n",
    "    def dfs(node):\n",
    "        s = \"\"  # init a string object\n",
    "        if not node:\n",
    "            s += \"/\" # need something to signal reaching the end ie leaf node\n",
    "            return s\n",
    "        # pre-order traversal \n",
    "        s += \" \" + str(node.val) + dfs(node.left) + dfs(node.right)  # [1] \n",
    "        return s\n",
    "    return dfs(root)\n",
    "serialize(root)\n",
    "\n",
    "# [1] the space is important to separating out numbers more than one digit"
   ]
  },
  {
   "cell_type": "code",
   "execution_count": 35,
   "metadata": {},
   "outputs": [],
   "source": [
    "# shortened code. eliminated the str object\n",
    "def serialize(root):\n",
    "    def dfs(node):\n",
    "        if not node:\n",
    "            return \"/ \"\n",
    "        return str(node.val) + \" \" + dfs(node.left) + dfs(node.right)\n",
    "    return dfs(root)"
   ]
  },
  {
   "cell_type": "code",
   "execution_count": 40,
   "metadata": {},
   "outputs": [
    {
     "data": {
      "text/plain": [
       "'50 4 3 / / 6 / / 9 / / '"
      ]
     },
     "execution_count": 40,
     "metadata": {},
     "output_type": "execute_result"
    }
   ],
   "source": [
    "serialize(root)"
   ]
  },
  {
   "cell_type": "markdown",
   "metadata": {},
   "source": [
    "# create a tree from a string representation"
   ]
  },
  {
   "cell_type": "code",
   "execution_count": 43,
   "metadata": {},
   "outputs": [],
   "source": [
    "def deserialize(s):\n",
    "    def dfs(nodes):\n",
    "        val = next(nodes)\n",
    "        if val == \"/\": return  # return to the previous call, otherwise keeping going left\n",
    "        node = Node(int(val))\n",
    "        node.left = dfs(nodes)  # `nodes` is the same iter from the first call\n",
    "        node.right = dfs(nodes)\n",
    "        return node\n",
    "    return dfs(iter(s.split()))  #[1] \n",
    "# [1] important to `iter()` here, rather than within in each recursive call,\n",
    "# otherwise the iter object always starts from the beginning\n",
    "# also important to do a `.split()` here, which by default split by space and remove space. \n",
    "# if you iter('10 4') directly, it's going to return 1 see below.\n",
    "\n",
    "# reference: algo.monster\n",
    " "
   ]
  },
  {
   "cell_type": "code",
   "execution_count": 48,
   "metadata": {},
   "outputs": [
    {
     "name": "stdout",
     "output_type": "stream",
     "text": [
      "1\n",
      "0\n",
      " \n",
      "4\n"
     ]
    }
   ],
   "source": [
    "a = '10 4'\n",
    "b = iter(a)\n",
    "print(next(b))\n",
    "print(next(b))\n",
    "print(next(b))\n",
    "print(next(b))"
   ]
  },
  {
   "cell_type": "code",
   "execution_count": 50,
   "metadata": {},
   "outputs": [
    {
     "name": "stdout",
     "output_type": "stream",
     "text": [
      "10\n",
      "4\n"
     ]
    }
   ],
   "source": [
    "a = '10 4'\n",
    "b = iter(a.split())\n",
    "print(next(b))\n",
    "print(next(b))\n",
    "# print(next(b))  # will raise stop iteration error here because there're only two elements.\n",
    "# print(next(b))"
   ]
  },
  {
   "cell_type": "code",
   "execution_count": 44,
   "metadata": {},
   "outputs": [
    {
     "name": "stdout",
     "output_type": "stream",
     "text": [
      "    50\n",
      "        4\n",
      "            3\n",
      "            6\n",
      "        9\n"
     ]
    }
   ],
   "source": [
    "prettyPrint(deserialize(serialize(root)),\"\")"
   ]
  },
  {
   "cell_type": "code",
   "execution_count": 46,
   "metadata": {},
   "outputs": [
    {
     "name": "stdout",
     "output_type": "stream",
     "text": [
      "    10\n",
      "        6\n",
      "        9\n"
     ]
    }
   ],
   "source": [
    "prettyPrint(deserialize('10 6 / / 9 / /'),\"\")"
   ]
  },
  {
   "cell_type": "code",
   "execution_count": null,
   "metadata": {},
   "outputs": [],
   "source": []
  },
  {
   "cell_type": "markdown",
   "metadata": {},
   "source": [
    "100. Same Tree\n",
    "https://leetcode.com/problems/same-tree/"
   ]
  },
  {
   "cell_type": "markdown",
   "metadata": {},
   "source": [
    "# The Morris traversal\n",
    "The Morris traversal is a way to inorder traverse (left -> root -> right) a tree with O(1) space and O(n) time. It's procedure is as follows. (https://leetcode.com/problems/binary-tree-inorder-traversal/solution/)\n",
    "\n",
    "\n",
    "    Step 1: Initialize current as root\n",
    "\n",
    "    Step 2: While current is not NULL,\n",
    "\n",
    "    If current does not have left child\n",
    "\n",
    "        a. Add current’s value\n",
    "\n",
    "        b. Go to the right, i.e., current = current.right\n",
    "\n",
    "    Else\n",
    "\n",
    "        a. In current's left subtree, make current the right child of the rightmost node\n",
    "\n",
    "        b. Go to this left child, i.e., current = current.left\n",
    "\n",
    "Great video walkthrough: https://www.youtube.com/watch?v=wGXB9OWhPTg"
   ]
  },
  {
   "cell_type": "code",
   "execution_count": 55,
   "metadata": {},
   "outputs": [],
   "source": [
    "def morris_inorder(root):\n",
    "    cur = root\n",
    "    while cur:\n",
    "        if not cur.left:  #[3]\n",
    "            print(cur.val, end=\" \")  # or do_something(cur)\n",
    "            cur = cur.right\n",
    "        else:\n",
    "            # find the predecessor of the current node\n",
    "            # which is the right most of the left subtree\n",
    "            # two things could happen:\n",
    "            # [1] either the left subtree has not been visited\n",
    "            # [2] or we find out a thread has already been established\n",
    "            # and keep going right would lead back to the current node itself\n",
    "            # This scenario happens if the current node is a previously \"moved\" (threaded/visited) node.  \n",
    "            # Example in 5:30 https://www.youtube.com/watch?v=wGXB9OWhPTg\n",
    "            temp = cur.left\n",
    "            while temp.right and temp.right != cur:\n",
    "                temp = temp.right\n",
    "            \n",
    "            # Scenario [1]\n",
    "            if not temp.right:\n",
    "                temp.right = cur\n",
    "                cur = cur.left\n",
    "\n",
    "            # Scenario [2] We can now safely break the thread\n",
    "            # and the current node can be visited\n",
    "            # This makes sure we do not change the original tree structure\n",
    "            else:\n",
    "                temp.right = None\n",
    "                print(cur.val, end=\" \")\n",
    "                cur = cur.right\n"
   ]
  },
  {
   "cell_type": "code",
   "execution_count": 56,
   "metadata": {},
   "outputs": [],
   "source": [
    "# a binary search tree that is balanced.\n",
    "root = Node(5)\n",
    "root.left = Node(2)\n",
    "root.left.left = Node(1)\n",
    "root.left.right = Node(3)\n",
    "root.right = Node(9)\n",
    "root.right.left = Node(6)\n",
    "root.right.right = Node(12)"
   ]
  },
  {
   "cell_type": "code",
   "execution_count": 57,
   "metadata": {},
   "outputs": [
    {
     "name": "stdout",
     "output_type": "stream",
     "text": [
      "1 2 3 5 6 9 12 "
     ]
    }
   ],
   "source": [
    "morris_inorder(root)"
   ]
  },
  {
   "cell_type": "code",
   "execution_count": 58,
   "metadata": {},
   "outputs": [
    {
     "name": "stdout",
     "output_type": "stream",
     "text": [
      "1 2 3 5 6 9 12 "
     ]
    }
   ],
   "source": [
    "def inorder_recursive(root):\n",
    "    if not root:\n",
    "        return\n",
    "    inorder_recursive(root.left)\n",
    "    print(root.val, end=\" \")\n",
    "    inorder_recursive(root.right)\n",
    "\n",
    "inorder_recursive(root)"
   ]
  },
  {
   "cell_type": "markdown",
   "metadata": {},
   "source": [
    "The Morris traversal code can also be shortened because we notice the same action in #[3] and Scenario [2] above.\n",
    "The key strategy is to utilize `continue` (see line #[1]), which skips printing (outputing) any node in this loop\n",
    "and gives control back to the while loop.\n",
    "If a node hits Scenario [2] it has been threaded to the right place, in which case the code continues to print it."
   ]
  },
  {
   "cell_type": "code",
   "execution_count": 60,
   "metadata": {},
   "outputs": [
    {
     "name": "stdout",
     "output_type": "stream",
     "text": [
      "1 2 3 5 6 9 12 "
     ]
    }
   ],
   "source": [
    "\n",
    "def morris_inorder2(root):\n",
    "    cur = root\n",
    "    while cur:\n",
    "        if cur.left:\n",
    "            temp = cur.left\n",
    "            while temp.right and temp.right != cur:\n",
    "                temp = temp.right\n",
    "            if not temp.right:\n",
    "                temp.right, cur = cur, cur.left\n",
    "                continue  # [1]\n",
    "            else:  # else for readability [2]\n",
    "                temp.right = None\n",
    "        print(cur.val, end=\" \")\n",
    "        cur = cur.right\n",
    "\n",
    "morris_inorder2(root)\n"
   ]
  },
  {
   "cell_type": "markdown",
   "metadata": {},
   "source": [
    "### 99. Recover Binary Search Tree \n",
    "With the insight of Morris traversal we can now tackle a problem called Recover Binary Search Tree (https://leetcode.com/problems/recover-binary-search-tree/)\n",
    "\n",
    "The idea is to while inorder traversing a tree, find the swapped nodes. Only compare the value of two swapped nodes if they are ready to be 'printed' out (either the current node doesn't have a left child, or it has been visited before). \n",
    "\n",
    "For a BST that is [1,2,3] (inorder), two scenarios can happen if a pair of nodes were swappped. \n",
    "\n",
    "[1] The two nodes are on the same side of a tree. For exmaple [2,1,3]. So [2,1] needs to be swapped back to [1,2].\n",
    "\n",
    "[2] It is possible that two pairs of nodes are out of order owning to the one pair of swapped nodes if they are on two separate substrees. For example, if 1 and 3 are swapped, then the readout becomes [3,2,1]. So the two pairs are [3,2], [2,1]. The final fix is swapping 3 and 1, i.e. the leftmode of the prev mode and the rightmost of the current node."
   ]
  },
  {
   "cell_type": "code",
   "execution_count": null,
   "metadata": {},
   "outputs": [],
   "source": [
    "def recoverTree(root: Node) -> None:\n",
    "    cur = root\n",
    "    prev = Node(-float(\"inf\"))\n",
    "    swaps = []\n",
    "\n",
    "    while cur:\n",
    "        if cur.left:\n",
    "            temp = cur.left\n",
    "            while temp.right and temp.right != cur:\n",
    "                temp = temp.right\n",
    "            if temp.right is None:\n",
    "                temp.right, cur = cur, cur.left\n",
    "                continue\n",
    "            else:\n",
    "                temp.right = None\n",
    "            \n",
    "        if cur.val < prev.val:\n",
    "            swaps.append((prev, cur))\n",
    "\n",
    "        prev, cur = cur, cur.right\n",
    "\n",
    "    swaps[0][0].val, swaps[-1][1].val = swaps[-1][1].val, swaps[0][0].val"
   ]
  }
 ],
 "metadata": {
  "interpreter": {
   "hash": "4023a4020549a99ab93ca89615a594ad2e0faa709fdb86265b11c339299de1af"
  },
  "kernelspec": {
   "display_name": "poetry-shrp2",
   "language": "python",
   "name": "python3"
  },
  "language_info": {
   "codemirror_mode": {
    "name": "ipython",
    "version": 3
   },
   "file_extension": ".py",
   "mimetype": "text/x-python",
   "name": "python",
   "nbconvert_exporter": "python",
   "pygments_lexer": "ipython3",
   "version": "3.8.7"
  },
  "orig_nbformat": 2
 },
 "nbformat": 4,
 "nbformat_minor": 2
}
