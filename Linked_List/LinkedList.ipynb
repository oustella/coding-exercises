{
 "cells": [
  {
   "cell_type": "code",
   "execution_count": 21,
   "metadata": {},
   "outputs": [],
   "source": [
    "class Node:  # a linked node has two components\n",
    "    def __init__(self, val):\n",
    "        self.val = val  # value\n",
    "        self.next = None  # pointer to the next value\n",
    "\n",
    "def printLL(head):\n",
    "    temp = head\n",
    "    while temp:\n",
    "        print(temp.val, end=' ')\n",
    "        temp = temp.next\n",
    "    print(\"\")"
   ]
  },
  {
   "cell_type": "markdown",
   "metadata": {},
   "source": [
    "# Detect loop in a linked list"
   ]
  },
  {
   "cell_type": "code",
   "execution_count": null,
   "metadata": {},
   "outputs": [],
   "source": [
    "# the idea is to use fast/slow pointer and see if they ever meet.\n",
    "def detectLoop(self, head):\n",
    "        if head and head.next is None:\n",
    "            return True\n",
    "        #code here\n",
    "        fast = head\n",
    "        slow = head\n",
    "        \n",
    "        while fast and fast.next:\n",
    "            fast = fast.next.next\n",
    "            slow = slow.next\n",
    "            if fast == slow:\n",
    "                return True\n",
    "        return False"
   ]
  },
  {
   "cell_type": "markdown",
   "metadata": {},
   "source": [
    "# Detect the starting node of a loop in a linked list"
   ]
  },
  {
   "cell_type": "code",
   "execution_count": 40,
   "metadata": {},
   "outputs": [],
   "source": [
    "node1 = Node(1)\n",
    "node2 = Node(2)\n",
    "node3 = Node(3)\n",
    "node4 = Node(4)\n",
    "node5 = Node(5)\n",
    "node1.next = node2\n",
    "node2.next = node3\n",
    "node3.next = node4\n",
    "node4.next = node5\n",
    "node5.next = node2"
   ]
  },
  {
   "cell_type": "code",
   "execution_count": 41,
   "metadata": {},
   "outputs": [],
   "source": [
    "# save each visited nodes in a hash\n",
    "# the second time a node is visited, it's the loop start node\n",
    "# space complexity is O(n)\n",
    "def detectAndDeleteLoopNode(head):\n",
    "    track = {}\n",
    "    if head is None:\n",
    "        return\n",
    "    prev = None\n",
    "    cur = head\n",
    "    while cur:\n",
    "        if cur not in track:\n",
    "            track[cur] = 1\n",
    "        else:\n",
    "            # remove the link between the prev node to the loop starting node\n",
    "            prev.next = None\n",
    "            return cur.data\n",
    "            #  prev.next = None\n",
    "        prev, cur = cur, cur.next\n",
    "\n",
    "    "
   ]
  },
  {
   "cell_type": "code",
   "execution_count": 43,
   "metadata": {
    "tags": []
   },
   "outputs": [
    {
     "name": "stdout",
     "output_type": "stream",
     "text": [
      "1 2 3 4 5 \n"
     ]
    }
   ],
   "source": [
    "printLL(node1)"
   ]
  },
  {
   "cell_type": "markdown",
   "metadata": {},
   "source": [
    "# Detect if the entire linked list is a loop"
   ]
  },
  {
   "cell_type": "code",
   "execution_count": 2,
   "metadata": {},
   "outputs": [],
   "source": [
    "node1 = Node(9)\n",
    "node1.next = Node(1)"
   ]
  },
  {
   "cell_type": "code",
   "execution_count": 5,
   "metadata": {},
   "outputs": [
    {
     "data": {
      "text/plain": [
       "False"
      ]
     },
     "execution_count": 5,
     "metadata": {},
     "output_type": "execute_result"
    }
   ],
   "source": [
    "node2 = Node(9)\n",
    "node1 == node2"
   ]
  },
  {
   "cell_type": "code",
   "execution_count": 3,
   "metadata": {},
   "outputs": [],
   "source": [
    "def isLoop(head):\n",
    "    if head is None:\n",
    "        return True\n",
    "    cur = head\n",
    "    while cur:\n",
    "        if cur.next == head:\n",
    "            return True\n",
    "        cur = cur.next\n",
    "    return False"
   ]
  },
  {
   "cell_type": "code",
   "execution_count": 4,
   "metadata": {},
   "outputs": [
    {
     "data": {
      "text/plain": [
       "False"
      ]
     },
     "execution_count": 4,
     "metadata": {},
     "output_type": "execute_result"
    }
   ],
   "source": [
    "isLoop(node1)"
   ]
  },
  {
   "cell_type": "markdown",
   "metadata": {},
   "source": [
    "## Merge Sort\n",
    "\n",
    "Merge sort two sorted linked lists in place.\n",
    "\n",
    "We need a dummy head to record the head of the new linkedlist.\n",
    "\n",
    "We also need a pointer to keep track of where the next node should be connected to.\n",
    "\n",
    "A candidate node is one that needs to be inserted next.\n",
    "\n",
    "Use LL1 as the base LL to merge into.\n",
    "\n",
    "If a candidate node is in LL1, then advance the LL1 pointer.\n",
    "\n",
    "If the candidate node is in LL2, then insert it to LL1, then advance the LL2 pointer."
   ]
  },
  {
   "cell_type": "code",
   "execution_count": 5,
   "metadata": {},
   "outputs": [],
   "source": [
    "def merge_sort(ll1: Node, ll2: Node) -> Node:\n",
    "    dummy = cur = Node(\"d\")\n",
    "    p1 = ll1\n",
    "    p2 = ll2\n",
    "    \n",
    "    if not p1:\n",
    "        return p2\n",
    "    if not p2:\n",
    "        return p1\n",
    "\n",
    "    while p1 and p2:\n",
    "        if p1.data <= p2.data:\n",
    "            if not dummy.next:\n",
    "                dummy.next = p1\n",
    "            else:\n",
    "                cur = cur.next\n",
    "                p1 = p1.next\n",
    "                \n",
    "        else:\n",
    "            if not dummy.next:\n",
    "                dummy.next = p2\n",
    "                temp = p2.next \n",
    "                p2.next = p1\n",
    "                p2 = temp\n",
    "            else:\n",
    "                cur.next = p2\n",
    "                temp = p2.next\n",
    "                p2.next = p1\n",
    "                p2 = temp\n",
    "            cur = cur.next\n",
    "\n",
    "    if p2:\n",
    "        cur.next = p2\n",
    "    \n",
    "    return dummy.next\n",
    "    \n"
   ]
  },
  {
   "cell_type": "markdown",
   "metadata": {},
   "source": [
    "The above can be reduced to below by taking advantage of the Python reference. "
   ]
  },
  {
   "cell_type": "code",
   "execution_count": 16,
   "metadata": {},
   "outputs": [],
   "source": [
    "def merge_sort(ll1: Node, ll2: Node) -> Node:\n",
    "    dummy = cur = Node(\"d\")\n",
    "    p1 = ll1\n",
    "    p2 = ll2\n",
    "    \n",
    "    if not p1:\n",
    "        return p2\n",
    "    if not p2:\n",
    "        return p1\n",
    "\n",
    "    while p1 and p2:\n",
    "        if p1.data <= p2.data:\n",
    "            cur.next = p1\n",
    "            p1 = p1.next\n",
    "                \n",
    "        else:\n",
    "            cur.next = p2\n",
    "            temp = p2.next \n",
    "            p2.next = p1\n",
    "            p2 = temp\n",
    "            \n",
    "        cur = cur.next\n",
    "\n",
    "    if p2:\n",
    "        cur.next = p2\n",
    "    \n",
    "    return dummy.next\n",
    "    \n"
   ]
  },
  {
   "cell_type": "code",
   "execution_count": 17,
   "metadata": {},
   "outputs": [
    {
     "name": "stdout",
     "output_type": "stream",
     "text": [
      "2 3 6 \n",
      "1 4 5 \n"
     ]
    }
   ],
   "source": [
    "ll1 = Node(2)\n",
    "ll1.next = Node(3)\n",
    "ll1.next.next = Node(6)\n",
    "\n",
    "ll2 = Node(1)\n",
    "ll2.next = Node(4)\n",
    "ll2.next.next = Node(5)\n",
    "\n",
    "printLL(ll1)\n",
    "printLL(ll2)"
   ]
  },
  {
   "cell_type": "code",
   "execution_count": 18,
   "metadata": {},
   "outputs": [
    {
     "name": "stdout",
     "output_type": "stream",
     "text": [
      "1 2 3 4 5 6 \n"
     ]
    }
   ],
   "source": [
    "newhead = merge_sort(ll1, ll2)\n",
    "printLL(newhead)"
   ]
  },
  {
   "cell_type": "code",
   "execution_count": 19,
   "metadata": {},
   "outputs": [
    {
     "name": "stdout",
     "output_type": "stream",
     "text": [
      "2 \n",
      "1 4 5 \n",
      "1 2 4 5 \n"
     ]
    }
   ],
   "source": [
    "ll1 = Node(2)\n",
    "\n",
    "\n",
    "ll2 = Node(1)\n",
    "ll2.next = Node(4)\n",
    "ll2.next.next = Node(5)\n",
    "\n",
    "printLL(ll1)\n",
    "printLL(ll2)\n",
    "newhead = merge_sort(ll1, ll2)\n",
    "printLL(newhead)"
   ]
  },
  {
   "cell_type": "markdown",
   "metadata": {},
   "source": [
    "Another great solution from \n",
    "https://leetcode.com/problems/merge-two-sorted-lists/discuss/1826705/python-without-recursion-or-dummy/1379930"
   ]
  },
  {
   "cell_type": "code",
   "execution_count": null,
   "metadata": {},
   "outputs": [],
   "source": [
    "class Solution:\n",
    "    def mergeTwoLists(self, list1: Optional[ListNode], list2: Optional[ListNode]) -> Optional[ListNode]:\n",
    "        if not list1 and not list2:\n",
    "            return list1\n",
    "        if not list1 or not list2:\n",
    "            return list1 if not list2 else list2\n",
    "        seek, target = (list1, list2) if list1.val < list2.val else (list2, list1)\n",
    "        head = seek\n",
    "        while seek and target:\n",
    "            while seek.next and seek.next.val < target.val:\n",
    "                seek = seek.next\n",
    "            seek.next, target = target, seek.next\n",
    "            seek = seek.next\n",
    "        return head"
   ]
  },
  {
   "cell_type": "markdown",
   "metadata": {},
   "source": []
  }
 ],
 "metadata": {
  "kernelspec": {
   "display_name": "Python 3.8.1 64-bit ('3.8.1': pyenv)",
   "metadata": {
    "interpreter": {
     "hash": "7b3a3da4fd0c9a68cfb7a0261cf18452ae65b217a2b1a75fb9d1433dbee3b706"
    }
   },
   "name": "python3"
  },
  "language_info": {
   "codemirror_mode": {
    "name": "ipython",
    "version": 3
   },
   "file_extension": ".py",
   "mimetype": "text/x-python",
   "name": "python",
   "nbconvert_exporter": "python",
   "pygments_lexer": "ipython3",
   "version": "3.8.7"
  },
  "orig_nbformat": 2
 },
 "nbformat": 4,
 "nbformat_minor": 2
}
