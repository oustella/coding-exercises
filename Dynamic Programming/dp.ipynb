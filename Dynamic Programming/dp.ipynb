{
 "cells": [
  {
   "cell_type": "markdown",
   "metadata": {},
   "source": [
    "# Longest Subsequence\n",
    "Given an unsorted array, return the length of the longest subsequence of ascending order\n",
    "a subsequence is a subset of numbers from the original array maintaining the same order\n",
    "but the numbers don't have to be next to each other. i.e. skipping elements is allowed.\n",
    "\n",
    "**So what's the difference between a subsequence and a substring?**\n",
    "\n",
    "A subsequence takes individual elements from the original array and respects their original order. However, skipping is allowed. In contrast, a substring takes a continuous sub-segment from the original array. This question would be a lot more straightforward using a two pointer strategy if it asks for longest substring.\n",
    "\n",
    "**Strategy**\n",
    "\n",
    "dp[i] reflects the longest length for a subsequence tha ends at nums[i].\n",
    "At first, the longest length is 1 counting itself.\n",
    "Then, for nums[i], look at its previous numbers from left to right 0 to i-1 inclusive.\n",
    "Increase dp[i] by 1 if a previous num is smaller plus the longest length up to that point.\n",
    "\n",
    "[1] Keeps track of the max length when one position finishes. Because we aer going from left to right, it won't change again. \n"
   ]
  },
  {
   "cell_type": "code",
   "execution_count": 5,
   "metadata": {},
   "outputs": [],
   "source": [
    "from typing import List\n",
    "def longest_subseq(nums: List) -> int:\n",
    "    n = len(nums)\n",
    "    dp = [1 for _ in range(n)]\n",
    "    ans = 1\n",
    "    for r in range(n):\n",
    "        for l in range(r):\n",
    "            if nums[l] < nums[r]:\n",
    "                dp[r] = max(dp[r], dp[l]+1)\n",
    "        ans = max(ans, dp[r])  # [1]\n",
    "    return ans"
   ]
  },
  {
   "cell_type": "code",
   "execution_count": 4,
   "metadata": {},
   "outputs": [
    {
     "name": "stdout",
     "output_type": "stream",
     "text": [
      "4\n"
     ]
    }
   ],
   "source": [
    "print(longest_subseq([10, 9, 2, 5, 3, 7, 101, 18]))"
   ]
  },
  {
   "cell_type": "code",
   "execution_count": null,
   "metadata": {},
   "outputs": [],
   "source": []
  }
 ],
 "metadata": {
  "interpreter": {
   "hash": "4023a4020549a99ab93ca89615a594ad2e0faa709fdb86265b11c339299de1af"
  },
  "kernelspec": {
   "display_name": "Python 3.8.7 ('hbf-E6tUn0h8-py3.8')",
   "language": "python",
   "name": "python3"
  },
  "language_info": {
   "codemirror_mode": {
    "name": "ipython",
    "version": 3
   },
   "file_extension": ".py",
   "mimetype": "text/x-python",
   "name": "python",
   "nbconvert_exporter": "python",
   "pygments_lexer": "ipython3",
   "version": "3.8.7"
  },
  "orig_nbformat": 4
 },
 "nbformat": 4,
 "nbformat_minor": 2
}
