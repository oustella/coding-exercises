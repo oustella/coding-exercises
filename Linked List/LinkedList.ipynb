{
 "metadata": {
  "language_info": {
   "codemirror_mode": {
    "name": "ipython",
    "version": 3
   },
   "file_extension": ".py",
   "mimetype": "text/x-python",
   "name": "python",
   "nbconvert_exporter": "python",
   "pygments_lexer": "ipython3",
   "version": "3.8.1"
  },
  "orig_nbformat": 2,
  "kernelspec": {
   "name": "python3",
   "display_name": "Python 3.8.1 64-bit ('3.8.1': pyenv)",
   "metadata": {
    "interpreter": {
     "hash": "7b3a3da4fd0c9a68cfb7a0261cf18452ae65b217a2b1a75fb9d1433dbee3b706"
    }
   }
  }
 },
 "nbformat": 4,
 "nbformat_minor": 2,
 "cells": [
  {
   "cell_type": "code",
   "execution_count": 17,
   "metadata": {},
   "outputs": [],
   "source": [
    "class Node:  # a linked node has two components\n",
    "    def __init__(self, data):\n",
    "        self.data = data  # value\n",
    "        self.next = None  # pointer to the next value\n",
    "\n",
    "def printLL(head):\n",
    "    temp = head\n",
    "    while temp:\n",
    "        print(temp.data, end=' ')\n",
    "        temp = temp.next\n",
    "    print(\"\")"
   ]
  },
  {
   "source": [
    "# Detect loop in a linked list"
   ],
   "cell_type": "markdown",
   "metadata": {}
  },
  {
   "cell_type": "code",
   "execution_count": null,
   "metadata": {},
   "outputs": [],
   "source": [
    "# the idea is to use fast/slow pointer and see if they ever meet.\n",
    "def detectLoop(self, head):\n",
    "        if head and head.next is None:\n",
    "            return True\n",
    "        #code here\n",
    "        fast = head\n",
    "        slow = head\n",
    "        \n",
    "        while fast and fast.next:\n",
    "            fast = fast.next.next\n",
    "            slow = slow.next\n",
    "            if fast == slow:\n",
    "                return True\n",
    "        return False"
   ]
  },
  {
   "source": [
    "# Detect the starting node of a loop in a linked list"
   ],
   "cell_type": "markdown",
   "metadata": {}
  },
  {
   "cell_type": "code",
   "execution_count": 40,
   "metadata": {},
   "outputs": [],
   "source": [
    "node1 = Node(1)\n",
    "node2 = Node(2)\n",
    "node3 = Node(3)\n",
    "node4 = Node(4)\n",
    "node5 = Node(5)\n",
    "node1.next = node2\n",
    "node2.next = node3\n",
    "node3.next = node4\n",
    "node4.next = node5\n",
    "node5.next = node2"
   ]
  },
  {
   "cell_type": "code",
   "execution_count": 41,
   "metadata": {},
   "outputs": [],
   "source": [
    "# save each visited nodes in a hash\n",
    "# the second time a node is visited, it's the loop start node\n",
    "# space complexity is O(n)\n",
    "def detectAndDeleteLoopNode(head):\n",
    "    track = {}\n",
    "    if head is None:\n",
    "        return\n",
    "    prev = None\n",
    "    cur = head\n",
    "    while cur:\n",
    "        if cur not in track:\n",
    "            track[cur] = 1\n",
    "        else:\n",
    "            # remove the link between the prev node to the loop starting node\n",
    "            prev.next = None\n",
    "            return cur.data\n",
    "            #  prev.next = None\n",
    "        prev, cur = cur, cur.next\n",
    "\n",
    "    "
   ]
  },
  {
   "cell_type": "code",
   "execution_count": 43,
   "metadata": {
    "tags": []
   },
   "outputs": [
    {
     "output_type": "stream",
     "name": "stdout",
     "text": [
      "1 2 3 4 5 \n"
     ]
    }
   ],
   "source": [
    "printLL(node1)"
   ]
  },
  {
   "source": [
    "# Detect if the entire linked list is a loop"
   ],
   "cell_type": "markdown",
   "metadata": {}
  },
  {
   "cell_type": "code",
   "execution_count": 2,
   "metadata": {},
   "outputs": [],
   "source": [
    "node1 = Node(9)\n",
    "node1.next = Node(1)"
   ]
  },
  {
   "cell_type": "code",
   "execution_count": 5,
   "metadata": {},
   "outputs": [
    {
     "output_type": "execute_result",
     "data": {
      "text/plain": [
       "False"
      ]
     },
     "metadata": {},
     "execution_count": 5
    }
   ],
   "source": [
    "node2 = Node(9)\n",
    "node1 == node2"
   ]
  },
  {
   "cell_type": "code",
   "execution_count": 3,
   "metadata": {},
   "outputs": [],
   "source": [
    "def isLoop(head):\n",
    "    if head is None:\n",
    "        return True\n",
    "    cur = head\n",
    "    while cur:\n",
    "        if cur.next == head:\n",
    "            return True\n",
    "        cur = cur.next\n",
    "    return False"
   ]
  },
  {
   "cell_type": "code",
   "execution_count": 4,
   "metadata": {},
   "outputs": [
    {
     "output_type": "execute_result",
     "data": {
      "text/plain": [
       "False"
      ]
     },
     "metadata": {},
     "execution_count": 4
    }
   ],
   "source": [
    "isLoop(node1)"
   ]
  },
  {
   "cell_type": "code",
   "execution_count": null,
   "metadata": {},
   "outputs": [],
   "source": []
  }
 ]
}