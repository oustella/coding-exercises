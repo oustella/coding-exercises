{
 "cells": [
  {
   "cell_type": "markdown",
   "metadata": {},
   "source": [
    "# Heap\n",
    "## What is heap?\n",
    "It is a specialized data structure that implements a priority queue that has two properties\n",
    "1. Insert a new item with a priority key.\n",
    "2. Delete an item with min/max key and return it.\n",
    "\n",
    "**Heap** is implemented as an almost complete binary tree from top to bottom - only the deepest level is allowed to have missing leaves, and the filled leaves on the bottom level need to be left-justified. For any node in the tree, its key (priority) is *smaller than all its children* for a minHeap/(maxHeap). That said, the nodes on the same level are not sorted. So it is not exactly a binary search tree.\n",
    "\n",
    "## Heap operations\n",
    "The height of a heap is guaranteed to be O(log(N)). So we insert a new item to the heap, it only needs to find the correct level, and the time complexity is O(log(n)).\n",
    "\n",
    "Insert an item to a min heap has two steps. Time complexity is O(log(N)).\n",
    "1. Put it on the bottom of the heap.\n",
    "2. Bubble up: Swap with its parent until it finds the correct level to be on.\n",
    "\n",
    "Removing the min priority item from a min heap has three steps. Time complexity is O(log(N)).\n",
    "1. Remove it from the top of tree. \n",
    "2. Move the last item in the heap to top (root).\n",
    "3. Bubble down: swap it with the smaller of its children nodes until the correct level. \n",
    "\n",
    "Remember, both insertion and deletion operation in a heap is O(log(N)).\n",
    "\n",
    "## Heap implementation\n",
    "A heap can be implemented as/stored in an array in a special order. For node i, its left and right children are stored in 2i+1, 2i+2. Conversely, a node's parent index is (i-1)//2."
   ]
  },
  {
   "cell_type": "markdown",
   "metadata": {},
   "source": [
    "## Heap in Python\n",
    "Heap in Python is a min heap."
   ]
  },
  {
   "cell_type": "code",
   "execution_count": 11,
   "metadata": {},
   "outputs": [
    {
     "name": "stdout",
     "output_type": "stream",
     "text": [
      "Current min is 1\n",
      "Current min is 3\n",
      "Current min is -1\n",
      "[-1, 5, 3, 7, 9, 10]\n"
     ]
    }
   ],
   "source": [
    "import heapq\n",
    "\n",
    "# From an array\n",
    "arr = [3,5,1,7,9,10]\n",
    "heapq.heapify(arr)  # heapify() returns None. Time complexity is O(N)\n",
    "print('Current min is', arr[0])\n",
    "\n",
    "heapq.heappop(arr)\n",
    "print('Current min is', arr[0])\n",
    "\n",
    "heapq.heappush(arr, -1)\n",
    "print('Current min is', arr[0])\n",
    "\n",
    "print(arr) # the order of the heapified arr is the heap tree stored in an array\n"
   ]
  },
  {
   "cell_type": "code",
   "execution_count": 21,
   "metadata": {},
   "outputs": [
    {
     "name": "stdout",
     "output_type": "stream",
     "text": [
      "-2\n",
      "1\n"
     ]
    }
   ],
   "source": [
    "# Create a heap from individaul items as they become available\n",
    "# Time complexity is O(N*log(N)) because each insertion is O(log(N))\n",
    "\n",
    "heap = []  # the initial empty heap has to be a list\n",
    "heapq.heappush(heap, 1)\n",
    "heapq.heappush(heap, 2)\n",
    "\n",
    "# push on a new item and pop the current min\n",
    "# it's more efficient than the combo of .heappush() and .heappop()\n",
    "print(heapq.heappushpop(heap, -2))\n",
    "\n",
    "# pop curren min and push on a new item\n",
    "# it's more efficient than the combo of .heappop() and .heappush()\n",
    "print(heapq.heapreplace(heap, -2))"
   ]
  },
  {
   "cell_type": "code",
   "execution_count": 44,
   "metadata": {},
   "outputs": [],
   "source": [
    "# What happens if heappop an empty heap?\n",
    "heap = []\n",
    "heapify(heap)\n",
    "# it will give 'index out of range' error, just like a list\n",
    "# heappop(heap) \n",
    "# print(heap[0])"
   ]
  },
  {
   "cell_type": "markdown",
   "metadata": {},
   "source": [
    "### How to get a max heap in Python?"
   ]
  },
  {
   "cell_type": "code",
   "execution_count": 18,
   "metadata": {},
   "outputs": [
    {
     "name": "stdout",
     "output_type": "stream",
     "text": [
      "Current max is 10\n",
      "Current max is 11\n"
     ]
    }
   ],
   "source": [
    "arr2 = [3,5,1,7,9,10]\n",
    "maxH = [-i for i in arr2]\n",
    "heapq.heapify(maxH)\n",
    "\n",
    "print('Current max is', -maxH[0])\n",
    "\n",
    "heapq.heappush(maxH, -11)\n",
    "print('Current max is', -maxH[0])\n"
   ]
  },
  {
   "cell_type": "markdown",
   "metadata": {},
   "source": [
    "### Get top k smallest\n",
    "\n",
    "Given a list of array, return the K smallest items."
   ]
  },
  {
   "cell_type": "code",
   "execution_count": null,
   "metadata": {},
   "outputs": [
    {
     "name": "stdout",
     "output_type": "stream",
     "text": [
      "[1, 3, 5]\n"
     ]
    }
   ],
   "source": [
    "from typing import List\n",
    "from heapq import *\n",
    "def getKSmallest(arr: List, K: int) -> List: \n",
    "    heapify(arr)\n",
    "    return nsmallest(K, arr)\n",
    "\n",
    "test = [3,5,1,7,9,10]\n",
    "print(getKSmallest(test, 3))\n"
   ]
  },
  {
   "cell_type": "markdown",
   "metadata": {},
   "source": [
    "### Use tuple to assign priorities to some other items\n",
    "\n",
    "As you will see in the merge k sorted list example, this is powerful when needing to carry more information during a sort.\n",
    "But note that all elements inside a tuple get compared. So if an element cannot be operated with '<', it's going to result in an error.\n"
   ]
  },
  {
   "cell_type": "code",
   "execution_count": 25,
   "metadata": {},
   "outputs": [
    {
     "data": {
      "text/plain": [
       "(1, 'Finish heap')"
      ]
     },
     "execution_count": 25,
     "metadata": {},
     "output_type": "execute_result"
    }
   ],
   "source": [
    "h = []\n",
    "heappush(h, (1, \"Finish heap\"))\n",
    "heappush(h, (2, \"Memorize tree traversal vs. BFS/DFS\"))\n",
    "heappop(h)"
   ]
  },
  {
   "cell_type": "markdown",
   "metadata": {},
   "source": []
  },
  {
   "cell_type": "code",
   "execution_count": 27,
   "metadata": {},
   "outputs": [
    {
     "data": {
      "text/plain": [
       "(1, 'areate tests')"
      ]
     },
     "execution_count": 27,
     "metadata": {},
     "output_type": "execute_result"
    }
   ],
   "source": [
    "h = []\n",
    "heappush(h, (5, 'write code'))\n",
    "heappush(h, (7, 'release product'))\n",
    "heappush(h, (1, 'write spec'))\n",
    "heappush(h, (1, 'areate tests'))\n",
    "heappop(h)"
   ]
  },
  {
   "cell_type": "markdown",
   "metadata": {},
   "source": [
    "### The skyline problem\n",
    "https://leetcode.com/problems/the-skyline-problem/"
   ]
  },
  {
   "cell_type": "code",
   "execution_count": 38,
   "metadata": {},
   "outputs": [],
   "source": [
    "from typing import List\n",
    "def getSkyline(buildings: List[List[int]]) -> List[List[int]]:\n",
    "    # get a sorted list of all unique building edges\n",
    "    edges = sorted(set([b[0] for b in buildings] + [b[1] for b in buildings]))\n",
    "    # for each edge, its target height is the max among all heights of buildings whose edges\n",
    "    # this edge falls into (ending edge is exclusive)\n",
    "    # to only check relevant buildings, only need to check buildings that start before the edge and has not ended\n",
    "    # if no candidate height, then height is 0\n",
    "    bidx = 0\n",
    "    candidates = []\n",
    "    res = []\n",
    "    for edge in edges:\n",
    "        # find buildings that current edges falls into\n",
    "        while bidx < len(buildings):\n",
    "            start, end, height = buildings[bidx]\n",
    "            if start <= edge:\n",
    "                heappush(candidates, (-height, end))\n",
    "                bidx += 1\n",
    "            else:\n",
    "                break\n",
    "        # remove buildings that overlap or end before the edge\n",
    "        while candidates and candidates[0][1] <= edge:\n",
    "            heappop(candidates)\n",
    "        # if this edge does not fall into any building range, return 0\n",
    "        cur_h = -candidates[0][0] if candidates else 0\n",
    "        if len(res) == 0:\n",
    "            res.append([edge, cur_h])\n",
    "        else:\n",
    "            # if the max height has been previously used, then do not return this edge\n",
    "            if res[-1][1] == cur_h:\n",
    "                continue\n",
    "            else:\n",
    "                res.append([edge, cur_h])\n",
    "    return res"
   ]
  },
  {
   "cell_type": "code",
   "execution_count": 39,
   "metadata": {},
   "outputs": [
    {
     "name": "stdout",
     "output_type": "stream",
     "text": [
      "[[2, 10], [3, 15], [7, 12], [12, 0], [15, 10], [20, 8], [24, 0]]\n"
     ]
    }
   ],
   "source": [
    "buildings = [[2,9,10],[3,7,15],[5,12,12],[15,20,10],[19,24,8]]\n",
    "print(getSkyline(buildings))"
   ]
  },
  {
   "cell_type": "markdown",
   "metadata": {},
   "source": [
    "### 239. Sliding Window Maximum\n",
    "https://leetcode.com/problems/sliding-window-maximum/"
   ]
  },
  {
   "cell_type": "code",
   "execution_count": null,
   "metadata": {},
   "outputs": [],
   "source": []
  },
  {
   "cell_type": "code",
   "execution_count": 47,
   "metadata": {},
   "outputs": [],
   "source": [
    "def maxSlidingWindow(nums, k):\n",
    "    max_heap = []\n",
    "    res = []\n",
    "    for i, num in enumerate(nums):\n",
    "        heappush(max_heap, (-num,i))\n",
    "        while max_heap and i - max_heap[0][1] >= k:\n",
    "            heappop(max_heap)\n",
    "        if i >= k-1:\n",
    "            res.append(-max_heap[0][0])\n",
    "    return res "
   ]
  },
  {
   "cell_type": "code",
   "execution_count": 49,
   "metadata": {},
   "outputs": [
    {
     "name": "stdout",
     "output_type": "stream",
     "text": [
      "[3, 3, 5, 5, 6, 7]\n",
      "[1]\n"
     ]
    }
   ],
   "source": [
    "nums = [1,3,-1,-3,5,3,6,7]\n",
    "k = 3\n",
    "print(maxSlidingWindow(nums, k))\n",
    "\n",
    "nums = [1]\n",
    "k = 1\n",
    "print(maxSlidingWindow(nums, k))"
   ]
  },
  {
   "cell_type": "code",
   "execution_count": 56,
   "metadata": {},
   "outputs": [],
   "source": [
    "# this solution doesn't use heap\n",
    "# the task of keeping track of the max number is O(n) where n is the length of the maxidxs\n",
    "from collections import deque\n",
    "def maxSlidingWindow(nums, k):\n",
    "    # keep track of the max numbers by popping out previous max no longer valid\n",
    "    # also remove previous max if it falls outside of k\n",
    "    res = []\n",
    "    maxidxs = deque([])\n",
    "    for i, num in enumerate(nums):\n",
    "        while maxidxs and num > nums[maxidxs[-1]]:\n",
    "            maxidxs.pop()\n",
    "        while maxidxs and i - maxidxs[0] >= k:\n",
    "            maxidxs.popleft()\n",
    "        maxidxs.append(i)\n",
    "        if i >= k-1:\n",
    "            res.append(nums[maxidxs[0]])\n",
    "    return res"
   ]
  },
  {
   "cell_type": "code",
   "execution_count": 57,
   "metadata": {},
   "outputs": [
    {
     "name": "stdout",
     "output_type": "stream",
     "text": [
      "[3, 3, 5, 5, 6, 7]\n",
      "[1]\n"
     ]
    }
   ],
   "source": [
    "nums = [1,3,-1,-3,5,3,6,7]\n",
    "k = 3\n",
    "print(maxSlidingWindow(nums, k))\n",
    "\n",
    "nums = [1]\n",
    "k = 1\n",
    "print(maxSlidingWindow(nums, k))"
   ]
  },
  {
   "cell_type": "markdown",
   "metadata": {},
   "source": [
    "### Nth Ugly number\n",
    "https://leetcode.com/problems/ugly-number-ii/"
   ]
  },
  {
   "cell_type": "code",
   "execution_count": 53,
   "metadata": {},
   "outputs": [
    {
     "name": "stdout",
     "output_type": "stream",
     "text": [
      "12\n"
     ]
    }
   ],
   "source": [
    "def getNthUglyNumber(n):\n",
    "    min_heap = [1]\n",
    "    heapify(min_heap)\n",
    "    primes = [2,3,5]\n",
    "    seen = set()\n",
    "    for _ in range(n):\n",
    "        cur_min = heappop(min_heap)\n",
    "        for p in primes:    \n",
    "            candidate = cur_min * p\n",
    "            if candidate not in seen:\n",
    "                heappush(min_heap, candidate)\n",
    "                seen.add(candidate)\n",
    "    return cur_min\n",
    "print(getNthUglyNumber(10))"
   ]
  },
  {
   "cell_type": "code",
   "execution_count": 50,
   "metadata": {},
   "outputs": [
    {
     "name": "stdout",
     "output_type": "stream",
     "text": [
      "12\n"
     ]
    }
   ],
   "source": [
    "# This solution doesn't use heap\n",
    "# If the task to find the min is relatively simple (within a small array)\n",
    "# heap may not be the optimal solution\n",
    "def getNthUglyNumber(n):\n",
    "    res = [1]\n",
    "    i2, i3, i5 = 0, 0, 0\n",
    "    for _ in range(n-1):\n",
    "        u2 = res[i2]*2\n",
    "        u3 = res[i3]*3\n",
    "        u5 = res[i5]*5\n",
    "        cur_min = min(u2, u3, u5)\n",
    "        if u2 == cur_min:\n",
    "            i2 += 1\n",
    "        if u3 == cur_min:\n",
    "            i3 += 1\n",
    "        if u5 == cur_min:\n",
    "            i5 += 1\n",
    "        res.append(cur_min)\n",
    "    return res[-1]\n",
    "\n",
    "print(getNthUglyNumber(10))\n",
    "\n"
   ]
  },
  {
   "cell_type": "code",
   "execution_count": null,
   "metadata": {},
   "outputs": [],
   "source": []
  }
 ],
 "metadata": {
  "interpreter": {
   "hash": "4023a4020549a99ab93ca89615a594ad2e0faa709fdb86265b11c339299de1af"
  },
  "kernelspec": {
   "display_name": "Python 3.8.7 ('hbf-E6tUn0h8-py3.8')",
   "language": "python",
   "name": "python3"
  },
  "language_info": {
   "codemirror_mode": {
    "name": "ipython",
    "version": 3
   },
   "file_extension": ".py",
   "mimetype": "text/x-python",
   "name": "python",
   "nbconvert_exporter": "python",
   "pygments_lexer": "ipython3",
   "version": "3.8.7"
  },
  "orig_nbformat": 4
 },
 "nbformat": 4,
 "nbformat_minor": 2
}
